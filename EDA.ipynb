{
 "cells": [
  {
   "cell_type": "code",
   "execution_count": 1,
   "metadata": {},
   "outputs": [],
   "source": [
    "import pandas as pd\n",
    "import numpy as np\n",
    "import datetime"
   ]
  },
  {
   "cell_type": "code",
   "execution_count": 2,
   "metadata": {},
   "outputs": [],
   "source": [
    "df_main = pd.read_csv('main.csv')\n",
    "df_address = pd.read_csv('address.csv')\n",
    "df_paid = pd.read_csv('paid_record.csv')"
   ]
  },
  {
   "cell_type": "code",
   "execution_count": 3,
   "metadata": {
    "scrolled": true
   },
   "outputs": [
    {
     "data": {
      "text/html": [
       "<div>\n",
       "<style scoped>\n",
       "    .dataframe tbody tr th:only-of-type {\n",
       "        vertical-align: middle;\n",
       "    }\n",
       "\n",
       "    .dataframe tbody tr th {\n",
       "        vertical-align: top;\n",
       "    }\n",
       "\n",
       "    .dataframe thead th {\n",
       "        text-align: right;\n",
       "    }\n",
       "</style>\n",
       "<table border=\"1\" class=\"dataframe\">\n",
       "  <thead>\n",
       "    <tr style=\"text-align: right;\">\n",
       "      <th></th>\n",
       "      <th>CODE_GENDER</th>\n",
       "      <th>FLAG_OWN_CAR</th>\n",
       "      <th>FLAG_OWN_REALTY</th>\n",
       "      <th>CNT_CHILDREN</th>\n",
       "      <th>AMT_INCOME_TOTAL</th>\n",
       "      <th>NAME_INCOME_TYPE</th>\n",
       "      <th>NAME_EDUCATION_TYPE</th>\n",
       "      <th>NAME_FAMILY_STATUS</th>\n",
       "      <th>NAME_HOUSING_TYPE</th>\n",
       "      <th>DAYS_EMPLOYED</th>\n",
       "      <th>FLAG_MOBIL</th>\n",
       "      <th>FLAG_WORK_PHONE</th>\n",
       "      <th>FLAG_PHONE</th>\n",
       "      <th>FLAG_EMAIL</th>\n",
       "      <th>OCCUPATION_TYPE</th>\n",
       "      <th>CNT_FAM_MEMBERS</th>\n",
       "      <th>DAYS_BIRTH_CLEAN</th>\n",
       "      <th>Letter</th>\n",
       "      <th>Main_ID</th>\n",
       "    </tr>\n",
       "  </thead>\n",
       "  <tbody>\n",
       "    <tr>\n",
       "      <th>0</th>\n",
       "      <td>M</td>\n",
       "      <td>Y</td>\n",
       "      <td>Y</td>\n",
       "      <td>0.0</td>\n",
       "      <td>427500.0</td>\n",
       "      <td>Working</td>\n",
       "      <td>Higher education</td>\n",
       "      <td>Civil marriage</td>\n",
       "      <td>Rented apartment</td>\n",
       "      <td>-4542.0</td>\n",
       "      <td>1.0</td>\n",
       "      <td>1.0</td>\n",
       "      <td>0.0</td>\n",
       "      <td>0.0</td>\n",
       "      <td>NaN</td>\n",
       "      <td>2.0</td>\n",
       "      <td>09/04/1990</td>\n",
       "      <td>L</td>\n",
       "      <td>5008804</td>\n",
       "    </tr>\n",
       "    <tr>\n",
       "      <th>1</th>\n",
       "      <td>M</td>\n",
       "      <td>Y</td>\n",
       "      <td>Y</td>\n",
       "      <td>0.0</td>\n",
       "      <td>427500.0</td>\n",
       "      <td>Working</td>\n",
       "      <td>Higher education</td>\n",
       "      <td>Civil marriage</td>\n",
       "      <td>Rented apartment</td>\n",
       "      <td>-4542.0</td>\n",
       "      <td>1.0</td>\n",
       "      <td>1.0</td>\n",
       "      <td>0.0</td>\n",
       "      <td>0.0</td>\n",
       "      <td>NaN</td>\n",
       "      <td>2.0</td>\n",
       "      <td>09/04/1990</td>\n",
       "      <td>G</td>\n",
       "      <td>5008805</td>\n",
       "    </tr>\n",
       "    <tr>\n",
       "      <th>2</th>\n",
       "      <td>M</td>\n",
       "      <td>Y</td>\n",
       "      <td>Y</td>\n",
       "      <td>0.0</td>\n",
       "      <td>112500.0</td>\n",
       "      <td>Working</td>\n",
       "      <td>Secondary / secondary special</td>\n",
       "      <td>Married</td>\n",
       "      <td>House / apartment</td>\n",
       "      <td>-1134.0</td>\n",
       "      <td>1.0</td>\n",
       "      <td>0.0</td>\n",
       "      <td>0.0</td>\n",
       "      <td>0.0</td>\n",
       "      <td>Security staff</td>\n",
       "      <td>2.0</td>\n",
       "      <td>06/05/1964</td>\n",
       "      <td>D</td>\n",
       "      <td>5008806</td>\n",
       "    </tr>\n",
       "    <tr>\n",
       "      <th>3</th>\n",
       "      <td>F</td>\n",
       "      <td>N</td>\n",
       "      <td>Y</td>\n",
       "      <td>0.0</td>\n",
       "      <td>270000.0</td>\n",
       "      <td>Commercial associate</td>\n",
       "      <td>Secondary / secondary special</td>\n",
       "      <td>Single / not married</td>\n",
       "      <td>House / apartment</td>\n",
       "      <td>-3051.0</td>\n",
       "      <td>1.0</td>\n",
       "      <td>0.0</td>\n",
       "      <td>1.0</td>\n",
       "      <td>1.0</td>\n",
       "      <td>Sales staff</td>\n",
       "      <td>1.0</td>\n",
       "      <td>26/10/1970</td>\n",
       "      <td>I</td>\n",
       "      <td>5008808</td>\n",
       "    </tr>\n",
       "    <tr>\n",
       "      <th>4</th>\n",
       "      <td>F</td>\n",
       "      <td>NaN</td>\n",
       "      <td>Y</td>\n",
       "      <td>0.0</td>\n",
       "      <td>270000.0</td>\n",
       "      <td>Commercial associate</td>\n",
       "      <td>Secondary / secondary special</td>\n",
       "      <td>Single / not married</td>\n",
       "      <td>House / apartment</td>\n",
       "      <td>-3051.0</td>\n",
       "      <td>1.0</td>\n",
       "      <td>0.0</td>\n",
       "      <td>1.0</td>\n",
       "      <td>1.0</td>\n",
       "      <td>Sales staff</td>\n",
       "      <td>1.0</td>\n",
       "      <td>26/10/1970</td>\n",
       "      <td>Z</td>\n",
       "      <td>5008809</td>\n",
       "    </tr>\n",
       "  </tbody>\n",
       "</table>\n",
       "</div>"
      ],
      "text/plain": [
       "  CODE_GENDER FLAG_OWN_CAR FLAG_OWN_REALTY  CNT_CHILDREN  AMT_INCOME_TOTAL  \\\n",
       "0           M            Y               Y           0.0          427500.0   \n",
       "1           M            Y               Y           0.0          427500.0   \n",
       "2           M            Y               Y           0.0          112500.0   \n",
       "3           F            N               Y           0.0          270000.0   \n",
       "4           F          NaN               Y           0.0          270000.0   \n",
       "\n",
       "       NAME_INCOME_TYPE            NAME_EDUCATION_TYPE    NAME_FAMILY_STATUS  \\\n",
       "0               Working               Higher education        Civil marriage   \n",
       "1               Working               Higher education        Civil marriage   \n",
       "2               Working  Secondary / secondary special               Married   \n",
       "3  Commercial associate  Secondary / secondary special  Single / not married   \n",
       "4  Commercial associate  Secondary / secondary special  Single / not married   \n",
       "\n",
       "   NAME_HOUSING_TYPE  DAYS_EMPLOYED  FLAG_MOBIL  FLAG_WORK_PHONE  FLAG_PHONE  \\\n",
       "0   Rented apartment        -4542.0         1.0              1.0         0.0   \n",
       "1   Rented apartment        -4542.0         1.0              1.0         0.0   \n",
       "2  House / apartment        -1134.0         1.0              0.0         0.0   \n",
       "3  House / apartment        -3051.0         1.0              0.0         1.0   \n",
       "4  House / apartment        -3051.0         1.0              0.0         1.0   \n",
       "\n",
       "   FLAG_EMAIL OCCUPATION_TYPE  CNT_FAM_MEMBERS DAYS_BIRTH_CLEAN Letter  \\\n",
       "0         0.0             NaN              2.0       09/04/1990      L   \n",
       "1         0.0             NaN              2.0       09/04/1990      G   \n",
       "2         0.0  Security staff              2.0       06/05/1964      D   \n",
       "3         1.0     Sales staff              1.0       26/10/1970      I   \n",
       "4         1.0     Sales staff              1.0       26/10/1970      Z   \n",
       "\n",
       "   Main_ID  \n",
       "0  5008804  \n",
       "1  5008805  \n",
       "2  5008806  \n",
       "3  5008808  \n",
       "4  5008809  "
      ]
     },
     "execution_count": 3,
     "metadata": {},
     "output_type": "execute_result"
    }
   ],
   "source": [
    "df_main.head()"
   ]
  },
  {
   "cell_type": "code",
   "execution_count": 4,
   "metadata": {},
   "outputs": [
    {
     "data": {
      "text/html": [
       "<div>\n",
       "<style scoped>\n",
       "    .dataframe tbody tr th:only-of-type {\n",
       "        vertical-align: middle;\n",
       "    }\n",
       "\n",
       "    .dataframe tbody tr th {\n",
       "        vertical-align: top;\n",
       "    }\n",
       "\n",
       "    .dataframe thead th {\n",
       "        text-align: right;\n",
       "    }\n",
       "</style>\n",
       "<table border=\"1\" class=\"dataframe\">\n",
       "  <thead>\n",
       "    <tr style=\"text-align: right;\">\n",
       "      <th></th>\n",
       "      <th>New_ID</th>\n",
       "      <th>ADDRESS</th>\n",
       "    </tr>\n",
       "  </thead>\n",
       "  <tbody>\n",
       "    <tr>\n",
       "      <th>0</th>\n",
       "      <td>5008804L</td>\n",
       "      <td>06042, CT, 31 Mitchell Road</td>\n",
       "    </tr>\n",
       "    <tr>\n",
       "      <th>1</th>\n",
       "      <td>5008805G</td>\n",
       "      <td>72703, AR, 1189 Northwest End Avenue</td>\n",
       "    </tr>\n",
       "    <tr>\n",
       "      <th>2</th>\n",
       "      <td>5008806D</td>\n",
       "      <td>72701, AR, 218 Shipley Alley</td>\n",
       "    </tr>\n",
       "    <tr>\n",
       "      <th>3</th>\n",
       "      <td>5008808I</td>\n",
       "      <td>3138 P Street Northwest, 20007, DC</td>\n",
       "    </tr>\n",
       "    <tr>\n",
       "      <th>4</th>\n",
       "      <td>5008809Z</td>\n",
       "      <td>2405 230th Street, 21122, MD</td>\n",
       "    </tr>\n",
       "  </tbody>\n",
       "</table>\n",
       "</div>"
      ],
      "text/plain": [
       "     New_ID                               ADDRESS\n",
       "0  5008804L           06042, CT, 31 Mitchell Road\n",
       "1  5008805G  72703, AR, 1189 Northwest End Avenue\n",
       "2  5008806D          72701, AR, 218 Shipley Alley\n",
       "3  5008808I    3138 P Street Northwest, 20007, DC\n",
       "4  5008809Z          2405 230th Street, 21122, MD"
      ]
     },
     "execution_count": 4,
     "metadata": {},
     "output_type": "execute_result"
    }
   ],
   "source": [
    "df_address.head()"
   ]
  },
  {
   "cell_type": "code",
   "execution_count": 5,
   "metadata": {},
   "outputs": [
    {
     "data": {
      "text/html": [
       "<div>\n",
       "<style scoped>\n",
       "    .dataframe tbody tr th:only-of-type {\n",
       "        vertical-align: middle;\n",
       "    }\n",
       "\n",
       "    .dataframe tbody tr th {\n",
       "        vertical-align: top;\n",
       "    }\n",
       "\n",
       "    .dataframe thead th {\n",
       "        text-align: right;\n",
       "    }\n",
       "</style>\n",
       "<table border=\"1\" class=\"dataframe\">\n",
       "  <thead>\n",
       "    <tr style=\"text-align: right;\">\n",
       "      <th></th>\n",
       "      <th>ID</th>\n",
       "      <th>MONTHS_BALANCE</th>\n",
       "      <th>STATUS</th>\n",
       "    </tr>\n",
       "  </thead>\n",
       "  <tbody>\n",
       "    <tr>\n",
       "      <th>0</th>\n",
       "      <td>5001711</td>\n",
       "      <td>0</td>\n",
       "      <td>X</td>\n",
       "    </tr>\n",
       "    <tr>\n",
       "      <th>1</th>\n",
       "      <td>5001711</td>\n",
       "      <td>-1</td>\n",
       "      <td>0</td>\n",
       "    </tr>\n",
       "    <tr>\n",
       "      <th>2</th>\n",
       "      <td>5001711</td>\n",
       "      <td>-2</td>\n",
       "      <td>0</td>\n",
       "    </tr>\n",
       "    <tr>\n",
       "      <th>3</th>\n",
       "      <td>5001711</td>\n",
       "      <td>-3</td>\n",
       "      <td>0</td>\n",
       "    </tr>\n",
       "    <tr>\n",
       "      <th>4</th>\n",
       "      <td>5001712</td>\n",
       "      <td>0</td>\n",
       "      <td>C</td>\n",
       "    </tr>\n",
       "  </tbody>\n",
       "</table>\n",
       "</div>"
      ],
      "text/plain": [
       "        ID  MONTHS_BALANCE STATUS\n",
       "0  5001711               0      X\n",
       "1  5001711              -1      0\n",
       "2  5001711              -2      0\n",
       "3  5001711              -3      0\n",
       "4  5001712               0      C"
      ]
     },
     "execution_count": 5,
     "metadata": {},
     "output_type": "execute_result"
    }
   ],
   "source": [
    "df_paid.head()"
   ]
  },
  {
   "cell_type": "code",
   "execution_count": 6,
   "metadata": {},
   "outputs": [
    {
     "name": "stdout",
     "output_type": "stream",
     "text": [
      "<class 'pandas.core.frame.DataFrame'>\n",
      "RangeIndex: 438757 entries, 0 to 438756\n",
      "Data columns (total 19 columns):\n",
      " #   Column               Non-Null Count   Dtype  \n",
      "---  ------               --------------   -----  \n",
      " 0   CODE_GENDER          427894 non-null  object \n",
      " 1   FLAG_OWN_CAR         427705 non-null  object \n",
      " 2   FLAG_OWN_REALTY      427806 non-null  object \n",
      " 3   CNT_CHILDREN         427826 non-null  float64\n",
      " 4   AMT_INCOME_TOTAL     427624 non-null  float64\n",
      " 5   NAME_INCOME_TYPE     427718 non-null  object \n",
      " 6   NAME_EDUCATION_TYPE  427654 non-null  object \n",
      " 7   NAME_FAMILY_STATUS   427772 non-null  object \n",
      " 8   NAME_HOUSING_TYPE    427693 non-null  object \n",
      " 9   DAYS_EMPLOYED        427784 non-null  float64\n",
      " 10  FLAG_MOBIL           427690 non-null  float64\n",
      " 11  FLAG_WORK_PHONE      427715 non-null  float64\n",
      " 12  FLAG_PHONE           427674 non-null  float64\n",
      " 13  FLAG_EMAIL           427770 non-null  float64\n",
      " 14  OCCUPATION_TYPE      296952 non-null  object \n",
      " 15  CNT_FAM_MEMBERS      427823 non-null  float64\n",
      " 16  DAYS_BIRTH_CLEAN     428042 non-null  object \n",
      " 17  Letter               438757 non-null  object \n",
      " 18  Main_ID              438757 non-null  int64  \n",
      "dtypes: float64(8), int64(1), object(10)\n",
      "memory usage: 46.9+ MB\n"
     ]
    }
   ],
   "source": [
    "df_main.info()"
   ]
  },
  {
   "cell_type": "code",
   "execution_count": 7,
   "metadata": {},
   "outputs": [
    {
     "data": {
      "text/plain": [
       "CODE_GENDER             10863\n",
       "FLAG_OWN_CAR            11052\n",
       "FLAG_OWN_REALTY         10951\n",
       "CNT_CHILDREN            10931\n",
       "AMT_INCOME_TOTAL        11133\n",
       "NAME_INCOME_TYPE        11039\n",
       "NAME_EDUCATION_TYPE     11103\n",
       "NAME_FAMILY_STATUS      10985\n",
       "NAME_HOUSING_TYPE       11064\n",
       "DAYS_EMPLOYED           10973\n",
       "FLAG_MOBIL              11067\n",
       "FLAG_WORK_PHONE         11042\n",
       "FLAG_PHONE              11083\n",
       "FLAG_EMAIL              10987\n",
       "OCCUPATION_TYPE        141805\n",
       "CNT_FAM_MEMBERS         10934\n",
       "DAYS_BIRTH_CLEAN        10715\n",
       "Letter                      0\n",
       "Main_ID                     0\n",
       "dtype: int64"
      ]
     },
     "execution_count": 7,
     "metadata": {},
     "output_type": "execute_result"
    }
   ],
   "source": [
    "df_main.isna().sum()"
   ]
  },
  {
   "cell_type": "code",
   "execution_count": 8,
   "metadata": {},
   "outputs": [
    {
     "name": "stdout",
     "output_type": "stream",
     "text": [
      "<class 'pandas.core.frame.DataFrame'>\n",
      "RangeIndex: 438757 entries, 0 to 438756\n",
      "Data columns (total 2 columns):\n",
      " #   Column   Non-Null Count   Dtype \n",
      "---  ------   --------------   ----- \n",
      " 0   New_ID   438757 non-null  object\n",
      " 1   ADDRESS  438757 non-null  object\n",
      "dtypes: object(2)\n",
      "memory usage: 3.3+ MB\n"
     ]
    }
   ],
   "source": [
    "df_address.info()"
   ]
  },
  {
   "cell_type": "code",
   "execution_count": 9,
   "metadata": {},
   "outputs": [
    {
     "data": {
      "text/plain": [
       "ID                0\n",
       "MONTHS_BALANCE    0\n",
       "STATUS            0\n",
       "dtype: int64"
      ]
     },
     "execution_count": 9,
     "metadata": {},
     "output_type": "execute_result"
    }
   ],
   "source": [
    "df_paid.isna().sum()"
   ]
  },
  {
   "cell_type": "code",
   "execution_count": 10,
   "metadata": {},
   "outputs": [
    {
     "data": {
      "text/plain": [
       "New_ID     0\n",
       "ADDRESS    0\n",
       "dtype: int64"
      ]
     },
     "execution_count": 10,
     "metadata": {},
     "output_type": "execute_result"
    }
   ],
   "source": [
    "df_address.isna().sum()"
   ]
  },
  {
   "cell_type": "code",
   "execution_count": 11,
   "metadata": {},
   "outputs": [
    {
     "data": {
      "text/plain": [
       "CODE_GENDER             object\n",
       "FLAG_OWN_CAR            object\n",
       "FLAG_OWN_REALTY         object\n",
       "CNT_CHILDREN           float64\n",
       "AMT_INCOME_TOTAL       float64\n",
       "NAME_INCOME_TYPE        object\n",
       "NAME_EDUCATION_TYPE     object\n",
       "NAME_FAMILY_STATUS      object\n",
       "NAME_HOUSING_TYPE       object\n",
       "DAYS_EMPLOYED          float64\n",
       "FLAG_MOBIL             float64\n",
       "FLAG_WORK_PHONE        float64\n",
       "FLAG_PHONE             float64\n",
       "FLAG_EMAIL             float64\n",
       "OCCUPATION_TYPE         object\n",
       "CNT_FAM_MEMBERS        float64\n",
       "DAYS_BIRTH_CLEAN        object\n",
       "Letter                  object\n",
       "Main_ID                  int64\n",
       "dtype: object"
      ]
     },
     "execution_count": 11,
     "metadata": {},
     "output_type": "execute_result"
    }
   ],
   "source": [
    "df_main.dtypes"
   ]
  },
  {
   "cell_type": "code",
   "execution_count": 12,
   "metadata": {},
   "outputs": [],
   "source": [
    "df_main[\"CODE_GENDER\"].fillna('F', inplace=True)\n",
    "df_main[\"FLAG_OWN_CAR\"].fillna('N', inplace=True)\n",
    "df_main[\"FLAG_OWN_REALTY\"].fillna('Y', inplace=True)"
   ]
  },
  {
   "cell_type": "code",
   "execution_count": 13,
   "metadata": {},
   "outputs": [
    {
     "data": {
      "text/plain": [
       "0          True\n",
       "1          True\n",
       "2          True\n",
       "3         False\n",
       "4         False\n",
       "          ...  \n",
       "438752    False\n",
       "438753     True\n",
       "438754    False\n",
       "438755    False\n",
       "438756    False\n",
       "Name: FLAG_OWN_CAR, Length: 438757, dtype: bool"
      ]
     },
     "execution_count": 13,
     "metadata": {},
     "output_type": "execute_result"
    }
   ],
   "source": [
    "#change flag Yes/No in Own Car variables to boolean\n",
    "df_main.loc[df_main['FLAG_OWN_CAR'] == 'Y', 'FLAG_OWN_CAR'] = 1\n",
    "df_main.loc[df_main['FLAG_OWN_CAR'] == 'N', 'FLAG_OWN_CAR'] = 0\n",
    "df_main['FLAG_OWN_CAR'] = df_main['FLAG_OWN_CAR'].astype('bool')\n",
    "df_main['FLAG_OWN_CAR']"
   ]
  },
  {
   "cell_type": "code",
   "execution_count": 14,
   "metadata": {},
   "outputs": [
    {
     "name": "stdout",
     "output_type": "stream",
     "text": [
      "<class 'pandas.core.frame.DataFrame'>\n",
      "RangeIndex: 438757 entries, 0 to 438756\n",
      "Data columns (total 19 columns):\n",
      " #   Column               Non-Null Count   Dtype  \n",
      "---  ------               --------------   -----  \n",
      " 0   CODE_GENDER          438757 non-null  object \n",
      " 1   FLAG_OWN_CAR         438757 non-null  bool   \n",
      " 2   FLAG_OWN_REALTY      438757 non-null  object \n",
      " 3   CNT_CHILDREN         427826 non-null  float64\n",
      " 4   AMT_INCOME_TOTAL     427624 non-null  float64\n",
      " 5   NAME_INCOME_TYPE     427718 non-null  object \n",
      " 6   NAME_EDUCATION_TYPE  427654 non-null  object \n",
      " 7   NAME_FAMILY_STATUS   427772 non-null  object \n",
      " 8   NAME_HOUSING_TYPE    427693 non-null  object \n",
      " 9   DAYS_EMPLOYED        427784 non-null  float64\n",
      " 10  FLAG_MOBIL           427690 non-null  float64\n",
      " 11  FLAG_WORK_PHONE      427715 non-null  float64\n",
      " 12  FLAG_PHONE           427674 non-null  float64\n",
      " 13  FLAG_EMAIL           427770 non-null  float64\n",
      " 14  OCCUPATION_TYPE      296952 non-null  object \n",
      " 15  CNT_FAM_MEMBERS      427823 non-null  float64\n",
      " 16  DAYS_BIRTH_CLEAN     428042 non-null  object \n",
      " 17  Letter               438757 non-null  object \n",
      " 18  Main_ID              438757 non-null  int64  \n",
      "dtypes: bool(1), float64(8), int64(1), object(9)\n",
      "memory usage: 45.6+ MB\n"
     ]
    }
   ],
   "source": [
    "df_main.info()"
   ]
  },
  {
   "cell_type": "code",
   "execution_count": 15,
   "metadata": {},
   "outputs": [
    {
     "data": {
      "text/plain": [
       "0          True\n",
       "1          True\n",
       "2          True\n",
       "3          True\n",
       "4          True\n",
       "          ...  \n",
       "438752    False\n",
       "438753     True\n",
       "438754     True\n",
       "438755     True\n",
       "438756     True\n",
       "Name: FLAG_OWN_REALTY, Length: 438757, dtype: bool"
      ]
     },
     "execution_count": 15,
     "metadata": {},
     "output_type": "execute_result"
    }
   ],
   "source": [
    "#change flag Yes/No in OWN_REALTY  variables to boolean\n",
    "df_main.loc[df_main['FLAG_OWN_REALTY'] == 'Y', 'FLAG_OWN_REALTY'] = 1\n",
    "df_main.loc[df_main['FLAG_OWN_REALTY'] == 'N', 'FLAG_OWN_REALTY'] = 0\n",
    "df_main['FLAG_OWN_REALTY'] = df_main['FLAG_OWN_REALTY'].astype('bool')\n",
    "df_main['FLAG_OWN_REALTY']"
   ]
  },
  {
   "cell_type": "code",
   "execution_count": 16,
   "metadata": {},
   "outputs": [
    {
     "data": {
      "text/plain": [
       "array([ True, False])"
      ]
     },
     "execution_count": 16,
     "metadata": {},
     "output_type": "execute_result"
    }
   ],
   "source": [
    "df_main.FLAG_OWN_REALTY.unique()"
   ]
  },
  {
   "cell_type": "code",
   "execution_count": 17,
   "metadata": {},
   "outputs": [],
   "source": [
    "\n",
    "del(df_main[\"FLAG_MOBIL\"])\n",
    "\n",
    "def obtener_lista_variables(dataset):\n",
    "    lista_numericas=[]\n",
    "    lista_boolean=[]\n",
    "    lista_categoricas=[]\n",
    "\n",
    "    for i in dataset:\n",
    "        if    (dataset[i].dtype.kind in (\"f\",\"i\")):\n",
    "              lista_numericas.append(i)\n",
    "        elif  (dataset[i].dtype.kind in (\"f\",\"i\", \"O\")) and len(dataset[i].unique())== 2:\n",
    "              lista_boolean.append(i)\n",
    "        elif  (dataset[i].dtype.kind == \"O\"):\n",
    "              lista_categoricas.append(i)\n",
    "                \n",
    "    return lista_numericas, lista_boolean, lista_categoricas\n",
    "lista_numericas, lista_boolean, lista_categoricas= obtener_lista_variables(df_main)\n",
    "\n",
    "for i in lista_numericas:\n",
    "    median_columna = df_main[i].median()\n",
    "    df_main[i].fillna(median_columna, inplace=True)\n",
    "    \n",
    "df_main[\"NAME_INCOME_TYPE\"].fillna('Working', inplace=True)\n",
    "df_main[\"NAME_EDUCATION_TYPE\"].fillna('Secondary / secondary special', inplace=True)\n",
    "df_main[\"NAME_FAMILY_STATUS\"].fillna('Married', inplace=True)\n",
    "df_main[\"NAME_HOUSING_TYPE\"].fillna('House / apartment', inplace=True)\n",
    "df_main[\"OCCUPATION_TYPE\"].fillna('Laborers', inplace=True)"
   ]
  },
  {
   "cell_type": "code",
   "execution_count": 18,
   "metadata": {},
   "outputs": [],
   "source": [
    "#cast DAYS_BIRTH_CLEAN as datetime\n",
    "df_main['BIRTH_YEAR'] = pd.to_datetime(df_main['DAYS_BIRTH_CLEAN'], format='%d/%m/%Y').dt.year"
   ]
  },
  {
   "cell_type": "code",
   "execution_count": 19,
   "metadata": {},
   "outputs": [],
   "source": [
    "df_main['AGE'] = 2023 - df_main['BIRTH_YEAR']"
   ]
  },
  {
   "cell_type": "code",
   "execution_count": 20,
   "metadata": {},
   "outputs": [
    {
     "data": {
      "text/plain": [
       "0         33.0\n",
       "1         33.0\n",
       "2         59.0\n",
       "3         53.0\n",
       "4         53.0\n",
       "          ... \n",
       "438752    32.0\n",
       "438753    45.0\n",
       "438754    49.0\n",
       "438755    58.0\n",
       "438756    34.0\n",
       "Name: AGE, Length: 438757, dtype: float64"
      ]
     },
     "execution_count": 20,
     "metadata": {},
     "output_type": "execute_result"
    }
   ],
   "source": [
    "df_main['AGE']"
   ]
  },
  {
   "cell_type": "code",
   "execution_count": 21,
   "metadata": {},
   "outputs": [
    {
     "data": {
      "text/plain": [
       "0        -4542.0\n",
       "1        -4542.0\n",
       "2        -1134.0\n",
       "3        -3051.0\n",
       "4        -3051.0\n",
       "           ...  \n",
       "438752   -3331.0\n",
       "438753   -5941.0\n",
       "438754    -880.0\n",
       "438755    -885.0\n",
       "438756    -783.0\n",
       "Name: DAYS_EMPLOYED, Length: 365386, dtype: float64"
      ]
     },
     "execution_count": 21,
     "metadata": {},
     "output_type": "execute_result"
    }
   ],
   "source": [
    "df_main.loc[df_main['DAYS_EMPLOYED'] < 0, 'DAYS_EMPLOYED']"
   ]
  },
  {
   "cell_type": "code",
   "execution_count": 22,
   "metadata": {},
   "outputs": [],
   "source": [
    "df_main.loc[df_main['DAYS_EMPLOYED'] >= 0, 'DAYS_EMPLOYED'] = 0"
   ]
  },
  {
   "cell_type": "code",
   "execution_count": 23,
   "metadata": {},
   "outputs": [],
   "source": [
    "df_main.loc[df_main['DAYS_EMPLOYED'] < 0, 'DAYS_EMPLOYED'] = 1"
   ]
  },
  {
   "cell_type": "markdown",
   "metadata": {},
   "source": [
    "Merge"
   ]
  },
  {
   "cell_type": "code",
   "execution_count": 25,
   "metadata": {},
   "outputs": [],
   "source": [
    "df_paid = df_paid[['ID','STATUS']]"
   ]
  },
  {
   "cell_type": "code",
   "execution_count": 28,
   "metadata": {},
   "outputs": [],
   "source": [
    "df_main = df_main[['Main_ID','CODE_GENDER', 'FLAG_OWN_CAR', 'FLAG_OWN_REALTY', 'CNT_CHILDREN', 'AMT_INCOME_TOTAL', 'AGE', 'DAYS_EMPLOYED','CNT_FAM_MEMBERS']]"
   ]
  },
  {
   "cell_type": "code",
   "execution_count": 30,
   "metadata": {},
   "outputs": [],
   "source": [
    "df_final = df_main.merge(df_paid, left_on = 'Main_ID', right_on = 'ID')"
   ]
  },
  {
   "cell_type": "code",
   "execution_count": 31,
   "metadata": {},
   "outputs": [
    {
     "data": {
      "text/html": [
       "<style  type=\"text/css\" >\n",
       "#T_1a69371c_b8ef_11ed_98a5_1c1bb5837c31row0_col0,#T_1a69371c_b8ef_11ed_98a5_1c1bb5837c31row1_col1,#T_1a69371c_b8ef_11ed_98a5_1c1bb5837c31row2_col2,#T_1a69371c_b8ef_11ed_98a5_1c1bb5837c31row3_col3,#T_1a69371c_b8ef_11ed_98a5_1c1bb5837c31row4_col4,#T_1a69371c_b8ef_11ed_98a5_1c1bb5837c31row5_col5,#T_1a69371c_b8ef_11ed_98a5_1c1bb5837c31row6_col6,#T_1a69371c_b8ef_11ed_98a5_1c1bb5837c31row7_col7{\n",
       "            background-color:  #023858;\n",
       "            color:  #f1f1f1;\n",
       "        }#T_1a69371c_b8ef_11ed_98a5_1c1bb5837c31row0_col1{\n",
       "            background-color:  #e9e5f1;\n",
       "            color:  #000000;\n",
       "        }#T_1a69371c_b8ef_11ed_98a5_1c1bb5837c31row0_col2{\n",
       "            background-color:  #f0eaf4;\n",
       "            color:  #000000;\n",
       "        }#T_1a69371c_b8ef_11ed_98a5_1c1bb5837c31row0_col3{\n",
       "            background-color:  #d0d1e6;\n",
       "            color:  #000000;\n",
       "        }#T_1a69371c_b8ef_11ed_98a5_1c1bb5837c31row0_col4,#T_1a69371c_b8ef_11ed_98a5_1c1bb5837c31row3_col2,#T_1a69371c_b8ef_11ed_98a5_1c1bb5837c31row7_col4{\n",
       "            background-color:  #f6eff7;\n",
       "            color:  #000000;\n",
       "        }#T_1a69371c_b8ef_11ed_98a5_1c1bb5837c31row0_col5{\n",
       "            background-color:  #a2bcda;\n",
       "            color:  #000000;\n",
       "        }#T_1a69371c_b8ef_11ed_98a5_1c1bb5837c31row0_col6{\n",
       "            background-color:  #a4bcda;\n",
       "            color:  #000000;\n",
       "        }#T_1a69371c_b8ef_11ed_98a5_1c1bb5837c31row0_col7,#T_1a69371c_b8ef_11ed_98a5_1c1bb5837c31row3_col1{\n",
       "            background-color:  #d4d4e8;\n",
       "            color:  #000000;\n",
       "        }#T_1a69371c_b8ef_11ed_98a5_1c1bb5837c31row1_col0,#T_1a69371c_b8ef_11ed_98a5_1c1bb5837c31row6_col0{\n",
       "            background-color:  #fef6fb;\n",
       "            color:  #000000;\n",
       "        }#T_1a69371c_b8ef_11ed_98a5_1c1bb5837c31row1_col2{\n",
       "            background-color:  #f7f0f7;\n",
       "            color:  #000000;\n",
       "        }#T_1a69371c_b8ef_11ed_98a5_1c1bb5837c31row1_col3{\n",
       "            background-color:  #b3c3de;\n",
       "            color:  #000000;\n",
       "        }#T_1a69371c_b8ef_11ed_98a5_1c1bb5837c31row1_col4{\n",
       "            background-color:  #d6d6e9;\n",
       "            color:  #000000;\n",
       "        }#T_1a69371c_b8ef_11ed_98a5_1c1bb5837c31row1_col5{\n",
       "            background-color:  #c6cce3;\n",
       "            color:  #000000;\n",
       "        }#T_1a69371c_b8ef_11ed_98a5_1c1bb5837c31row1_col6{\n",
       "            background-color:  #7dacd1;\n",
       "            color:  #000000;\n",
       "        }#T_1a69371c_b8ef_11ed_98a5_1c1bb5837c31row1_col7{\n",
       "            background-color:  #afc1dd;\n",
       "            color:  #000000;\n",
       "        }#T_1a69371c_b8ef_11ed_98a5_1c1bb5837c31row2_col0{\n",
       "            background-color:  #f8f1f8;\n",
       "            color:  #000000;\n",
       "        }#T_1a69371c_b8ef_11ed_98a5_1c1bb5837c31row2_col1{\n",
       "            background-color:  #eae6f1;\n",
       "            color:  #000000;\n",
       "        }#T_1a69371c_b8ef_11ed_98a5_1c1bb5837c31row2_col3{\n",
       "            background-color:  #ced0e6;\n",
       "            color:  #000000;\n",
       "        }#T_1a69371c_b8ef_11ed_98a5_1c1bb5837c31row2_col4{\n",
       "            background-color:  #f4eef6;\n",
       "            color:  #000000;\n",
       "        }#T_1a69371c_b8ef_11ed_98a5_1c1bb5837c31row2_col5{\n",
       "            background-color:  #8bb2d4;\n",
       "            color:  #000000;\n",
       "        }#T_1a69371c_b8ef_11ed_98a5_1c1bb5837c31row2_col6{\n",
       "            background-color:  #b1c2de;\n",
       "            color:  #000000;\n",
       "        }#T_1a69371c_b8ef_11ed_98a5_1c1bb5837c31row2_col7{\n",
       "            background-color:  #d3d4e7;\n",
       "            color:  #000000;\n",
       "        }#T_1a69371c_b8ef_11ed_98a5_1c1bb5837c31row3_col0,#T_1a69371c_b8ef_11ed_98a5_1c1bb5837c31row5_col1,#T_1a69371c_b8ef_11ed_98a5_1c1bb5837c31row5_col3,#T_1a69371c_b8ef_11ed_98a5_1c1bb5837c31row5_col4,#T_1a69371c_b8ef_11ed_98a5_1c1bb5837c31row5_col6,#T_1a69371c_b8ef_11ed_98a5_1c1bb5837c31row5_col7,#T_1a69371c_b8ef_11ed_98a5_1c1bb5837c31row6_col2,#T_1a69371c_b8ef_11ed_98a5_1c1bb5837c31row6_col5,#T_1a69371c_b8ef_11ed_98a5_1c1bb5837c31row7_col0{\n",
       "            background-color:  #fff7fb;\n",
       "            color:  #000000;\n",
       "        }#T_1a69371c_b8ef_11ed_98a5_1c1bb5837c31row3_col4{\n",
       "            background-color:  #f5eef6;\n",
       "            color:  #000000;\n",
       "        }#T_1a69371c_b8ef_11ed_98a5_1c1bb5837c31row3_col5{\n",
       "            background-color:  #e3e0ee;\n",
       "            color:  #000000;\n",
       "        }#T_1a69371c_b8ef_11ed_98a5_1c1bb5837c31row3_col6{\n",
       "            background-color:  #67a4cc;\n",
       "            color:  #000000;\n",
       "        }#T_1a69371c_b8ef_11ed_98a5_1c1bb5837c31row3_col7{\n",
       "            background-color:  #045585;\n",
       "            color:  #f1f1f1;\n",
       "        }#T_1a69371c_b8ef_11ed_98a5_1c1bb5837c31row4_col0{\n",
       "            background-color:  #fdf5fa;\n",
       "            color:  #000000;\n",
       "        }#T_1a69371c_b8ef_11ed_98a5_1c1bb5837c31row4_col1{\n",
       "            background-color:  #c1cae2;\n",
       "            color:  #000000;\n",
       "        }#T_1a69371c_b8ef_11ed_98a5_1c1bb5837c31row4_col2{\n",
       "            background-color:  #f3edf5;\n",
       "            color:  #000000;\n",
       "        }#T_1a69371c_b8ef_11ed_98a5_1c1bb5837c31row4_col3,#T_1a69371c_b8ef_11ed_98a5_1c1bb5837c31row7_col1{\n",
       "            background-color:  #cacee5;\n",
       "            color:  #000000;\n",
       "        }#T_1a69371c_b8ef_11ed_98a5_1c1bb5837c31row4_col5{\n",
       "            background-color:  #b0c2de;\n",
       "            color:  #000000;\n",
       "        }#T_1a69371c_b8ef_11ed_98a5_1c1bb5837c31row4_col6{\n",
       "            background-color:  #83afd3;\n",
       "            color:  #000000;\n",
       "        }#T_1a69371c_b8ef_11ed_98a5_1c1bb5837c31row4_col7{\n",
       "            background-color:  #d2d3e7;\n",
       "            color:  #000000;\n",
       "        }#T_1a69371c_b8ef_11ed_98a5_1c1bb5837c31row5_col0{\n",
       "            background-color:  #fef6fa;\n",
       "            color:  #000000;\n",
       "        }#T_1a69371c_b8ef_11ed_98a5_1c1bb5837c31row5_col2{\n",
       "            background-color:  #e5e1ef;\n",
       "            color:  #000000;\n",
       "        }#T_1a69371c_b8ef_11ed_98a5_1c1bb5837c31row6_col1{\n",
       "            background-color:  #c8cde4;\n",
       "            color:  #000000;\n",
       "        }#T_1a69371c_b8ef_11ed_98a5_1c1bb5837c31row6_col3{\n",
       "            background-color:  #8fb4d6;\n",
       "            color:  #000000;\n",
       "        }#T_1a69371c_b8ef_11ed_98a5_1c1bb5837c31row6_col4{\n",
       "            background-color:  #e0dded;\n",
       "            color:  #000000;\n",
       "        }#T_1a69371c_b8ef_11ed_98a5_1c1bb5837c31row6_col7{\n",
       "            background-color:  #99b8d8;\n",
       "            color:  #000000;\n",
       "        }#T_1a69371c_b8ef_11ed_98a5_1c1bb5837c31row7_col2{\n",
       "            background-color:  #f5eff6;\n",
       "            color:  #000000;\n",
       "        }#T_1a69371c_b8ef_11ed_98a5_1c1bb5837c31row7_col3{\n",
       "            background-color:  #045483;\n",
       "            color:  #f1f1f1;\n",
       "        }#T_1a69371c_b8ef_11ed_98a5_1c1bb5837c31row7_col5{\n",
       "            background-color:  #dddbec;\n",
       "            color:  #000000;\n",
       "        }#T_1a69371c_b8ef_11ed_98a5_1c1bb5837c31row7_col6{\n",
       "            background-color:  #69a5cc;\n",
       "            color:  #000000;\n",
       "        }</style><table id=\"T_1a69371c_b8ef_11ed_98a5_1c1bb5837c31\" ><thead>    <tr>        <th class=\"blank level0\" ></th>        <th class=\"col_heading level0 col0\" >Main_ID</th>        <th class=\"col_heading level0 col1\" >FLAG_OWN_CAR</th>        <th class=\"col_heading level0 col2\" >FLAG_OWN_REALTY</th>        <th class=\"col_heading level0 col3\" >CNT_CHILDREN</th>        <th class=\"col_heading level0 col4\" >AMT_INCOME_TOTAL</th>        <th class=\"col_heading level0 col5\" >AGE</th>        <th class=\"col_heading level0 col6\" >DAYS_EMPLOYED</th>        <th class=\"col_heading level0 col7\" >CNT_FAM_MEMBERS</th>    </tr></thead><tbody>\n",
       "                <tr>\n",
       "                        <th id=\"T_1a69371c_b8ef_11ed_98a5_1c1bb5837c31level0_row0\" class=\"row_heading level0 row0\" >Main_ID</th>\n",
       "                        <td id=\"T_1a69371c_b8ef_11ed_98a5_1c1bb5837c31row0_col0\" class=\"data row0 col0\" >1.000000</td>\n",
       "                        <td id=\"T_1a69371c_b8ef_11ed_98a5_1c1bb5837c31row0_col1\" class=\"data row0 col1\" >0.000623</td>\n",
       "                        <td id=\"T_1a69371c_b8ef_11ed_98a5_1c1bb5837c31row0_col2\" class=\"data row0 col2\" >0.041532</td>\n",
       "                        <td id=\"T_1a69371c_b8ef_11ed_98a5_1c1bb5837c31row0_col3\" class=\"data row0 col3\" >-0.004956</td>\n",
       "                        <td id=\"T_1a69371c_b8ef_11ed_98a5_1c1bb5837c31row0_col4\" class=\"data row0 col4\" >0.011031</td>\n",
       "                        <td id=\"T_1a69371c_b8ef_11ed_98a5_1c1bb5837c31row0_col5\" class=\"data row0 col5\" >0.005245</td>\n",
       "                        <td id=\"T_1a69371c_b8ef_11ed_98a5_1c1bb5837c31row0_col6\" class=\"data row0 col6\" >0.002349</td>\n",
       "                        <td id=\"T_1a69371c_b8ef_11ed_98a5_1c1bb5837c31row0_col7\" class=\"data row0 col7\" >-0.001911</td>\n",
       "            </tr>\n",
       "            <tr>\n",
       "                        <th id=\"T_1a69371c_b8ef_11ed_98a5_1c1bb5837c31level0_row1\" class=\"row_heading level0 row1\" >FLAG_OWN_CAR</th>\n",
       "                        <td id=\"T_1a69371c_b8ef_11ed_98a5_1c1bb5837c31row1_col0\" class=\"data row1 col0\" >0.000623</td>\n",
       "                        <td id=\"T_1a69371c_b8ef_11ed_98a5_1c1bb5837c31row1_col1\" class=\"data row1 col1\" >1.000000</td>\n",
       "                        <td id=\"T_1a69371c_b8ef_11ed_98a5_1c1bb5837c31row1_col2\" class=\"data row1 col2\" >-0.002125</td>\n",
       "                        <td id=\"T_1a69371c_b8ef_11ed_98a5_1c1bb5837c31row1_col3\" class=\"data row1 col3\" >0.110793</td>\n",
       "                        <td id=\"T_1a69371c_b8ef_11ed_98a5_1c1bb5837c31row1_col4\" class=\"data row1 col4\" >0.181654</td>\n",
       "                        <td id=\"T_1a69371c_b8ef_11ed_98a5_1c1bb5837c31row1_col5\" class=\"data row1 col5\" >-0.159845</td>\n",
       "                        <td id=\"T_1a69371c_b8ef_11ed_98a5_1c1bb5837c31row1_col6\" class=\"data row1 col6\" >0.159823</td>\n",
       "                        <td id=\"T_1a69371c_b8ef_11ed_98a5_1c1bb5837c31row1_col7\" class=\"data row1 col7\" >0.151278</td>\n",
       "            </tr>\n",
       "            <tr>\n",
       "                        <th id=\"T_1a69371c_b8ef_11ed_98a5_1c1bb5837c31level0_row2\" class=\"row_heading level0 row2\" >FLAG_OWN_REALTY</th>\n",
       "                        <td id=\"T_1a69371c_b8ef_11ed_98a5_1c1bb5837c31row2_col0\" class=\"data row2 col0\" >0.041532</td>\n",
       "                        <td id=\"T_1a69371c_b8ef_11ed_98a5_1c1bb5837c31row2_col1\" class=\"data row2 col1\" >-0.002125</td>\n",
       "                        <td id=\"T_1a69371c_b8ef_11ed_98a5_1c1bb5837c31row2_col2\" class=\"data row2 col2\" >1.000000</td>\n",
       "                        <td id=\"T_1a69371c_b8ef_11ed_98a5_1c1bb5837c31row2_col3\" class=\"data row2 col3\" >0.001630</td>\n",
       "                        <td id=\"T_1a69371c_b8ef_11ed_98a5_1c1bb5837c31row2_col4\" class=\"data row2 col4\" >0.024127</td>\n",
       "                        <td id=\"T_1a69371c_b8ef_11ed_98a5_1c1bb5837c31row2_col5\" class=\"data row2 col5\" >0.105469</td>\n",
       "                        <td id=\"T_1a69371c_b8ef_11ed_98a5_1c1bb5837c31row2_col6\" class=\"data row2 col6\" >-0.062971</td>\n",
       "                        <td id=\"T_1a69371c_b8ef_11ed_98a5_1c1bb5837c31row2_col7\" class=\"data row2 col7\" >0.007480</td>\n",
       "            </tr>\n",
       "            <tr>\n",
       "                        <th id=\"T_1a69371c_b8ef_11ed_98a5_1c1bb5837c31level0_row3\" class=\"row_heading level0 row3\" >CNT_CHILDREN</th>\n",
       "                        <td id=\"T_1a69371c_b8ef_11ed_98a5_1c1bb5837c31row3_col0\" class=\"data row3 col0\" >-0.004956</td>\n",
       "                        <td id=\"T_1a69371c_b8ef_11ed_98a5_1c1bb5837c31row3_col1\" class=\"data row3 col1\" >0.110793</td>\n",
       "                        <td id=\"T_1a69371c_b8ef_11ed_98a5_1c1bb5837c31row3_col2\" class=\"data row3 col2\" >0.001630</td>\n",
       "                        <td id=\"T_1a69371c_b8ef_11ed_98a5_1c1bb5837c31row3_col3\" class=\"data row3 col3\" >1.000000</td>\n",
       "                        <td id=\"T_1a69371c_b8ef_11ed_98a5_1c1bb5837c31row3_col4\" class=\"data row3 col4\" >0.017719</td>\n",
       "                        <td id=\"T_1a69371c_b8ef_11ed_98a5_1c1bb5837c31row3_col5\" class=\"data row3 col5\" >-0.342874</td>\n",
       "                        <td id=\"T_1a69371c_b8ef_11ed_98a5_1c1bb5837c31row3_col6\" class=\"data row3 col6\" >0.234769</td>\n",
       "                        <td id=\"T_1a69371c_b8ef_11ed_98a5_1c1bb5837c31row3_col7\" class=\"data row3 col7\" >0.858879</td>\n",
       "            </tr>\n",
       "            <tr>\n",
       "                        <th id=\"T_1a69371c_b8ef_11ed_98a5_1c1bb5837c31level0_row4\" class=\"row_heading level0 row4\" >AMT_INCOME_TOTAL</th>\n",
       "                        <td id=\"T_1a69371c_b8ef_11ed_98a5_1c1bb5837c31row4_col0\" class=\"data row4 col0\" >0.011031</td>\n",
       "                        <td id=\"T_1a69371c_b8ef_11ed_98a5_1c1bb5837c31row4_col1\" class=\"data row4 col1\" >0.181654</td>\n",
       "                        <td id=\"T_1a69371c_b8ef_11ed_98a5_1c1bb5837c31row4_col2\" class=\"data row4 col2\" >0.024127</td>\n",
       "                        <td id=\"T_1a69371c_b8ef_11ed_98a5_1c1bb5837c31row4_col3\" class=\"data row4 col3\" >0.017719</td>\n",
       "                        <td id=\"T_1a69371c_b8ef_11ed_98a5_1c1bb5837c31row4_col4\" class=\"data row4 col4\" >1.000000</td>\n",
       "                        <td id=\"T_1a69371c_b8ef_11ed_98a5_1c1bb5837c31row4_col5\" class=\"data row4 col5\" >-0.052854</td>\n",
       "                        <td id=\"T_1a69371c_b8ef_11ed_98a5_1c1bb5837c31row4_col6\" class=\"data row4 col6\" >0.136840</td>\n",
       "                        <td id=\"T_1a69371c_b8ef_11ed_98a5_1c1bb5837c31row4_col7\" class=\"data row4 col7\" >0.010696</td>\n",
       "            </tr>\n",
       "            <tr>\n",
       "                        <th id=\"T_1a69371c_b8ef_11ed_98a5_1c1bb5837c31level0_row5\" class=\"row_heading level0 row5\" >AGE</th>\n",
       "                        <td id=\"T_1a69371c_b8ef_11ed_98a5_1c1bb5837c31row5_col0\" class=\"data row5 col0\" >0.005245</td>\n",
       "                        <td id=\"T_1a69371c_b8ef_11ed_98a5_1c1bb5837c31row5_col1\" class=\"data row5 col1\" >-0.159845</td>\n",
       "                        <td id=\"T_1a69371c_b8ef_11ed_98a5_1c1bb5837c31row5_col2\" class=\"data row5 col2\" >0.105469</td>\n",
       "                        <td id=\"T_1a69371c_b8ef_11ed_98a5_1c1bb5837c31row5_col3\" class=\"data row5 col3\" >-0.342874</td>\n",
       "                        <td id=\"T_1a69371c_b8ef_11ed_98a5_1c1bb5837c31row5_col4\" class=\"data row5 col4\" >-0.052854</td>\n",
       "                        <td id=\"T_1a69371c_b8ef_11ed_98a5_1c1bb5837c31row5_col5\" class=\"data row5 col5\" >1.000000</td>\n",
       "                        <td id=\"T_1a69371c_b8ef_11ed_98a5_1c1bb5837c31row5_col6\" class=\"data row5 col6\" >-0.612307</td>\n",
       "                        <td id=\"T_1a69371c_b8ef_11ed_98a5_1c1bb5837c31row5_col7\" class=\"data row5 col7\" >-0.302002</td>\n",
       "            </tr>\n",
       "            <tr>\n",
       "                        <th id=\"T_1a69371c_b8ef_11ed_98a5_1c1bb5837c31level0_row6\" class=\"row_heading level0 row6\" >DAYS_EMPLOYED</th>\n",
       "                        <td id=\"T_1a69371c_b8ef_11ed_98a5_1c1bb5837c31row6_col0\" class=\"data row6 col0\" >0.002349</td>\n",
       "                        <td id=\"T_1a69371c_b8ef_11ed_98a5_1c1bb5837c31row6_col1\" class=\"data row6 col1\" >0.159823</td>\n",
       "                        <td id=\"T_1a69371c_b8ef_11ed_98a5_1c1bb5837c31row6_col2\" class=\"data row6 col2\" >-0.062971</td>\n",
       "                        <td id=\"T_1a69371c_b8ef_11ed_98a5_1c1bb5837c31row6_col3\" class=\"data row6 col3\" >0.234769</td>\n",
       "                        <td id=\"T_1a69371c_b8ef_11ed_98a5_1c1bb5837c31row6_col4\" class=\"data row6 col4\" >0.136840</td>\n",
       "                        <td id=\"T_1a69371c_b8ef_11ed_98a5_1c1bb5837c31row6_col5\" class=\"data row6 col5\" >-0.612307</td>\n",
       "                        <td id=\"T_1a69371c_b8ef_11ed_98a5_1c1bb5837c31row6_col6\" class=\"data row6 col6\" >1.000000</td>\n",
       "                        <td id=\"T_1a69371c_b8ef_11ed_98a5_1c1bb5837c31row6_col7\" class=\"data row6 col7\" >0.228383</td>\n",
       "            </tr>\n",
       "            <tr>\n",
       "                        <th id=\"T_1a69371c_b8ef_11ed_98a5_1c1bb5837c31level0_row7\" class=\"row_heading level0 row7\" >CNT_FAM_MEMBERS</th>\n",
       "                        <td id=\"T_1a69371c_b8ef_11ed_98a5_1c1bb5837c31row7_col0\" class=\"data row7 col0\" >-0.001911</td>\n",
       "                        <td id=\"T_1a69371c_b8ef_11ed_98a5_1c1bb5837c31row7_col1\" class=\"data row7 col1\" >0.151278</td>\n",
       "                        <td id=\"T_1a69371c_b8ef_11ed_98a5_1c1bb5837c31row7_col2\" class=\"data row7 col2\" >0.007480</td>\n",
       "                        <td id=\"T_1a69371c_b8ef_11ed_98a5_1c1bb5837c31row7_col3\" class=\"data row7 col3\" >0.858879</td>\n",
       "                        <td id=\"T_1a69371c_b8ef_11ed_98a5_1c1bb5837c31row7_col4\" class=\"data row7 col4\" >0.010696</td>\n",
       "                        <td id=\"T_1a69371c_b8ef_11ed_98a5_1c1bb5837c31row7_col5\" class=\"data row7 col5\" >-0.302002</td>\n",
       "                        <td id=\"T_1a69371c_b8ef_11ed_98a5_1c1bb5837c31row7_col6\" class=\"data row7 col6\" >0.228383</td>\n",
       "                        <td id=\"T_1a69371c_b8ef_11ed_98a5_1c1bb5837c31row7_col7\" class=\"data row7 col7\" >1.000000</td>\n",
       "            </tr>\n",
       "    </tbody></table>"
      ],
      "text/plain": [
       "<pandas.io.formats.style.Styler at 0x53eb5f8>"
      ]
     },
     "execution_count": 31,
     "metadata": {},
     "output_type": "execute_result"
    }
   ],
   "source": [
    "corr = df_main.corr()\n",
    "corr.style.background_gradient()"
   ]
  },
  {
   "cell_type": "code",
   "execution_count": 32,
   "metadata": {},
   "outputs": [
    {
     "data": {
      "text/html": [
       "<div>\n",
       "<style scoped>\n",
       "    .dataframe tbody tr th:only-of-type {\n",
       "        vertical-align: middle;\n",
       "    }\n",
       "\n",
       "    .dataframe tbody tr th {\n",
       "        vertical-align: top;\n",
       "    }\n",
       "\n",
       "    .dataframe thead th {\n",
       "        text-align: right;\n",
       "    }\n",
       "</style>\n",
       "<table border=\"1\" class=\"dataframe\">\n",
       "  <thead>\n",
       "    <tr style=\"text-align: right;\">\n",
       "      <th></th>\n",
       "      <th>Main_ID</th>\n",
       "      <th>CODE_GENDER</th>\n",
       "      <th>FLAG_OWN_CAR</th>\n",
       "      <th>FLAG_OWN_REALTY</th>\n",
       "      <th>CNT_CHILDREN</th>\n",
       "      <th>AMT_INCOME_TOTAL</th>\n",
       "      <th>AGE</th>\n",
       "      <th>DAYS_EMPLOYED</th>\n",
       "      <th>CNT_FAM_MEMBERS</th>\n",
       "      <th>ID</th>\n",
       "      <th>STATUS</th>\n",
       "    </tr>\n",
       "  </thead>\n",
       "  <tbody>\n",
       "    <tr>\n",
       "      <th>0</th>\n",
       "      <td>5008804</td>\n",
       "      <td>M</td>\n",
       "      <td>True</td>\n",
       "      <td>True</td>\n",
       "      <td>0.0</td>\n",
       "      <td>427500.0</td>\n",
       "      <td>33.0</td>\n",
       "      <td>1.0</td>\n",
       "      <td>2.0</td>\n",
       "      <td>5008804</td>\n",
       "      <td>C</td>\n",
       "    </tr>\n",
       "    <tr>\n",
       "      <th>1</th>\n",
       "      <td>5008804</td>\n",
       "      <td>M</td>\n",
       "      <td>True</td>\n",
       "      <td>True</td>\n",
       "      <td>0.0</td>\n",
       "      <td>427500.0</td>\n",
       "      <td>33.0</td>\n",
       "      <td>1.0</td>\n",
       "      <td>2.0</td>\n",
       "      <td>5008804</td>\n",
       "      <td>C</td>\n",
       "    </tr>\n",
       "    <tr>\n",
       "      <th>2</th>\n",
       "      <td>5008804</td>\n",
       "      <td>M</td>\n",
       "      <td>True</td>\n",
       "      <td>True</td>\n",
       "      <td>0.0</td>\n",
       "      <td>427500.0</td>\n",
       "      <td>33.0</td>\n",
       "      <td>1.0</td>\n",
       "      <td>2.0</td>\n",
       "      <td>5008804</td>\n",
       "      <td>C</td>\n",
       "    </tr>\n",
       "    <tr>\n",
       "      <th>3</th>\n",
       "      <td>5008804</td>\n",
       "      <td>M</td>\n",
       "      <td>True</td>\n",
       "      <td>True</td>\n",
       "      <td>0.0</td>\n",
       "      <td>427500.0</td>\n",
       "      <td>33.0</td>\n",
       "      <td>1.0</td>\n",
       "      <td>2.0</td>\n",
       "      <td>5008804</td>\n",
       "      <td>C</td>\n",
       "    </tr>\n",
       "    <tr>\n",
       "      <th>4</th>\n",
       "      <td>5008804</td>\n",
       "      <td>M</td>\n",
       "      <td>True</td>\n",
       "      <td>True</td>\n",
       "      <td>0.0</td>\n",
       "      <td>427500.0</td>\n",
       "      <td>33.0</td>\n",
       "      <td>1.0</td>\n",
       "      <td>2.0</td>\n",
       "      <td>5008804</td>\n",
       "      <td>C</td>\n",
       "    </tr>\n",
       "  </tbody>\n",
       "</table>\n",
       "</div>"
      ],
      "text/plain": [
       "   Main_ID CODE_GENDER  FLAG_OWN_CAR  FLAG_OWN_REALTY  CNT_CHILDREN  \\\n",
       "0  5008804           M          True             True           0.0   \n",
       "1  5008804           M          True             True           0.0   \n",
       "2  5008804           M          True             True           0.0   \n",
       "3  5008804           M          True             True           0.0   \n",
       "4  5008804           M          True             True           0.0   \n",
       "\n",
       "   AMT_INCOME_TOTAL   AGE  DAYS_EMPLOYED  CNT_FAM_MEMBERS       ID STATUS  \n",
       "0          427500.0  33.0            1.0              2.0  5008804      C  \n",
       "1          427500.0  33.0            1.0              2.0  5008804      C  \n",
       "2          427500.0  33.0            1.0              2.0  5008804      C  \n",
       "3          427500.0  33.0            1.0              2.0  5008804      C  \n",
       "4          427500.0  33.0            1.0              2.0  5008804      C  "
      ]
     },
     "execution_count": 32,
     "metadata": {},
     "output_type": "execute_result"
    }
   ],
   "source": [
    "df_final.head()"
   ]
  },
  {
   "cell_type": "code",
   "execution_count": 36,
   "metadata": {},
   "outputs": [],
   "source": [
    "df_final['TARGET'] = df_final['STATUS'].isin(['C', 'X', 0])"
   ]
  },
  {
   "cell_type": "code",
   "execution_count": null,
   "metadata": {},
   "outputs": [],
   "source": [
    "df_final['TARGET'].uique"
   ]
  },
  {
   "cell_type": "code",
   "execution_count": 34,
   "metadata": {},
   "outputs": [],
   "source": [
    "#define target value\n",
    "df_final.to_csv('final_df.csv', sep=';')"
   ]
  }
 ],
 "metadata": {
  "kernelspec": {
   "display_name": "Python 3",
   "language": "python",
   "name": "python3"
  },
  "language_info": {
   "codemirror_mode": {
    "name": "ipython",
    "version": 3
   },
   "file_extension": ".py",
   "mimetype": "text/x-python",
   "name": "python",
   "nbconvert_exporter": "python",
   "pygments_lexer": "ipython3",
   "version": "3.8.5"
  }
 },
 "nbformat": 4,
 "nbformat_minor": 4
}
