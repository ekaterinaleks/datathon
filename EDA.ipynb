{
 "cells": [
  {
   "cell_type": "code",
   "execution_count": 1,
   "metadata": {},
   "outputs": [],
   "source": [
    "import pandas as pd\n",
    "import numpy as np\n",
    "import datetime"
   ]
  },
  {
   "cell_type": "code",
   "execution_count": 2,
   "metadata": {},
   "outputs": [],
   "source": [
    "from sklearn.model_selection import train_test_split\n",
    "import os\n",
    "import seaborn as sns\n",
    "from matplotlib import pyplot as plt\n",
    "import warnings\n",
    "import statsmodels.api as sm\n",
    "from sklearn import preprocessing\n",
    "from sklearn.metrics import confusion_matrix\n",
    "from sklearn.model_selection import train_test_split\n",
    "from sklearn.linear_model import LogisticRegression\n",
    "from sklearn.metrics import classification_report\n",
    "from sklearn.preprocessing import LabelEncoder\n",
    "from sklearn import metrics\n",
    "from sklearn.metrics import roc_auc_score\n",
    "from sklearn.metrics import roc_curve\n",
    "#from imblearn.over_sampling import SMOTE\n",
    "from sklearn.naive_bayes import GaussianNB\n",
    "from sklearn.naive_bayes import MultinomialNB\n",
    "from sklearn.preprocessing import LabelEncoder,MinMaxScaler"
   ]
  },
  {
   "cell_type": "code",
   "execution_count": 3,
   "metadata": {},
   "outputs": [],
   "source": [
    "df_main = pd.read_csv('main.csv')\n",
    "df_address = pd.read_csv('address.csv')\n",
    "df_paid = pd.read_csv('paid_record.csv')"
   ]
  },
  {
   "cell_type": "code",
   "execution_count": 4,
   "metadata": {
    "scrolled": true
   },
   "outputs": [
    {
     "data": {
      "text/html": [
       "<div>\n",
       "<style scoped>\n",
       "    .dataframe tbody tr th:only-of-type {\n",
       "        vertical-align: middle;\n",
       "    }\n",
       "\n",
       "    .dataframe tbody tr th {\n",
       "        vertical-align: top;\n",
       "    }\n",
       "\n",
       "    .dataframe thead th {\n",
       "        text-align: right;\n",
       "    }\n",
       "</style>\n",
       "<table border=\"1\" class=\"dataframe\">\n",
       "  <thead>\n",
       "    <tr style=\"text-align: right;\">\n",
       "      <th></th>\n",
       "      <th>CODE_GENDER</th>\n",
       "      <th>FLAG_OWN_CAR</th>\n",
       "      <th>FLAG_OWN_REALTY</th>\n",
       "      <th>CNT_CHILDREN</th>\n",
       "      <th>AMT_INCOME_TOTAL</th>\n",
       "      <th>NAME_INCOME_TYPE</th>\n",
       "      <th>NAME_EDUCATION_TYPE</th>\n",
       "      <th>NAME_FAMILY_STATUS</th>\n",
       "      <th>NAME_HOUSING_TYPE</th>\n",
       "      <th>DAYS_EMPLOYED</th>\n",
       "      <th>FLAG_MOBIL</th>\n",
       "      <th>FLAG_WORK_PHONE</th>\n",
       "      <th>FLAG_PHONE</th>\n",
       "      <th>FLAG_EMAIL</th>\n",
       "      <th>OCCUPATION_TYPE</th>\n",
       "      <th>CNT_FAM_MEMBERS</th>\n",
       "      <th>DAYS_BIRTH_CLEAN</th>\n",
       "      <th>Letter</th>\n",
       "      <th>Main_ID</th>\n",
       "    </tr>\n",
       "  </thead>\n",
       "  <tbody>\n",
       "    <tr>\n",
       "      <th>0</th>\n",
       "      <td>M</td>\n",
       "      <td>Y</td>\n",
       "      <td>Y</td>\n",
       "      <td>0.0</td>\n",
       "      <td>427500.0</td>\n",
       "      <td>Working</td>\n",
       "      <td>Higher education</td>\n",
       "      <td>Civil marriage</td>\n",
       "      <td>Rented apartment</td>\n",
       "      <td>-4542.0</td>\n",
       "      <td>1.0</td>\n",
       "      <td>1.0</td>\n",
       "      <td>0.0</td>\n",
       "      <td>0.0</td>\n",
       "      <td>NaN</td>\n",
       "      <td>2.0</td>\n",
       "      <td>09/04/1990</td>\n",
       "      <td>L</td>\n",
       "      <td>5008804</td>\n",
       "    </tr>\n",
       "    <tr>\n",
       "      <th>1</th>\n",
       "      <td>M</td>\n",
       "      <td>Y</td>\n",
       "      <td>Y</td>\n",
       "      <td>0.0</td>\n",
       "      <td>427500.0</td>\n",
       "      <td>Working</td>\n",
       "      <td>Higher education</td>\n",
       "      <td>Civil marriage</td>\n",
       "      <td>Rented apartment</td>\n",
       "      <td>-4542.0</td>\n",
       "      <td>1.0</td>\n",
       "      <td>1.0</td>\n",
       "      <td>0.0</td>\n",
       "      <td>0.0</td>\n",
       "      <td>NaN</td>\n",
       "      <td>2.0</td>\n",
       "      <td>09/04/1990</td>\n",
       "      <td>G</td>\n",
       "      <td>5008805</td>\n",
       "    </tr>\n",
       "    <tr>\n",
       "      <th>2</th>\n",
       "      <td>M</td>\n",
       "      <td>Y</td>\n",
       "      <td>Y</td>\n",
       "      <td>0.0</td>\n",
       "      <td>112500.0</td>\n",
       "      <td>Working</td>\n",
       "      <td>Secondary / secondary special</td>\n",
       "      <td>Married</td>\n",
       "      <td>House / apartment</td>\n",
       "      <td>-1134.0</td>\n",
       "      <td>1.0</td>\n",
       "      <td>0.0</td>\n",
       "      <td>0.0</td>\n",
       "      <td>0.0</td>\n",
       "      <td>Security staff</td>\n",
       "      <td>2.0</td>\n",
       "      <td>06/05/1964</td>\n",
       "      <td>D</td>\n",
       "      <td>5008806</td>\n",
       "    </tr>\n",
       "    <tr>\n",
       "      <th>3</th>\n",
       "      <td>F</td>\n",
       "      <td>N</td>\n",
       "      <td>Y</td>\n",
       "      <td>0.0</td>\n",
       "      <td>270000.0</td>\n",
       "      <td>Commercial associate</td>\n",
       "      <td>Secondary / secondary special</td>\n",
       "      <td>Single / not married</td>\n",
       "      <td>House / apartment</td>\n",
       "      <td>-3051.0</td>\n",
       "      <td>1.0</td>\n",
       "      <td>0.0</td>\n",
       "      <td>1.0</td>\n",
       "      <td>1.0</td>\n",
       "      <td>Sales staff</td>\n",
       "      <td>1.0</td>\n",
       "      <td>26/10/1970</td>\n",
       "      <td>I</td>\n",
       "      <td>5008808</td>\n",
       "    </tr>\n",
       "    <tr>\n",
       "      <th>4</th>\n",
       "      <td>F</td>\n",
       "      <td>NaN</td>\n",
       "      <td>Y</td>\n",
       "      <td>0.0</td>\n",
       "      <td>270000.0</td>\n",
       "      <td>Commercial associate</td>\n",
       "      <td>Secondary / secondary special</td>\n",
       "      <td>Single / not married</td>\n",
       "      <td>House / apartment</td>\n",
       "      <td>-3051.0</td>\n",
       "      <td>1.0</td>\n",
       "      <td>0.0</td>\n",
       "      <td>1.0</td>\n",
       "      <td>1.0</td>\n",
       "      <td>Sales staff</td>\n",
       "      <td>1.0</td>\n",
       "      <td>26/10/1970</td>\n",
       "      <td>Z</td>\n",
       "      <td>5008809</td>\n",
       "    </tr>\n",
       "  </tbody>\n",
       "</table>\n",
       "</div>"
      ],
      "text/plain": [
       "  CODE_GENDER FLAG_OWN_CAR FLAG_OWN_REALTY  CNT_CHILDREN  AMT_INCOME_TOTAL  \\\n",
       "0           M            Y               Y           0.0          427500.0   \n",
       "1           M            Y               Y           0.0          427500.0   \n",
       "2           M            Y               Y           0.0          112500.0   \n",
       "3           F            N               Y           0.0          270000.0   \n",
       "4           F          NaN               Y           0.0          270000.0   \n",
       "\n",
       "       NAME_INCOME_TYPE            NAME_EDUCATION_TYPE    NAME_FAMILY_STATUS  \\\n",
       "0               Working               Higher education        Civil marriage   \n",
       "1               Working               Higher education        Civil marriage   \n",
       "2               Working  Secondary / secondary special               Married   \n",
       "3  Commercial associate  Secondary / secondary special  Single / not married   \n",
       "4  Commercial associate  Secondary / secondary special  Single / not married   \n",
       "\n",
       "   NAME_HOUSING_TYPE  DAYS_EMPLOYED  FLAG_MOBIL  FLAG_WORK_PHONE  FLAG_PHONE  \\\n",
       "0   Rented apartment        -4542.0         1.0              1.0         0.0   \n",
       "1   Rented apartment        -4542.0         1.0              1.0         0.0   \n",
       "2  House / apartment        -1134.0         1.0              0.0         0.0   \n",
       "3  House / apartment        -3051.0         1.0              0.0         1.0   \n",
       "4  House / apartment        -3051.0         1.0              0.0         1.0   \n",
       "\n",
       "   FLAG_EMAIL OCCUPATION_TYPE  CNT_FAM_MEMBERS DAYS_BIRTH_CLEAN Letter  \\\n",
       "0         0.0             NaN              2.0       09/04/1990      L   \n",
       "1         0.0             NaN              2.0       09/04/1990      G   \n",
       "2         0.0  Security staff              2.0       06/05/1964      D   \n",
       "3         1.0     Sales staff              1.0       26/10/1970      I   \n",
       "4         1.0     Sales staff              1.0       26/10/1970      Z   \n",
       "\n",
       "   Main_ID  \n",
       "0  5008804  \n",
       "1  5008805  \n",
       "2  5008806  \n",
       "3  5008808  \n",
       "4  5008809  "
      ]
     },
     "execution_count": 4,
     "metadata": {},
     "output_type": "execute_result"
    }
   ],
   "source": [
    "df_main.head()"
   ]
  },
  {
   "cell_type": "code",
   "execution_count": 5,
   "metadata": {},
   "outputs": [
    {
     "data": {
      "text/html": [
       "<div>\n",
       "<style scoped>\n",
       "    .dataframe tbody tr th:only-of-type {\n",
       "        vertical-align: middle;\n",
       "    }\n",
       "\n",
       "    .dataframe tbody tr th {\n",
       "        vertical-align: top;\n",
       "    }\n",
       "\n",
       "    .dataframe thead th {\n",
       "        text-align: right;\n",
       "    }\n",
       "</style>\n",
       "<table border=\"1\" class=\"dataframe\">\n",
       "  <thead>\n",
       "    <tr style=\"text-align: right;\">\n",
       "      <th></th>\n",
       "      <th>New_ID</th>\n",
       "      <th>ADDRESS</th>\n",
       "    </tr>\n",
       "  </thead>\n",
       "  <tbody>\n",
       "    <tr>\n",
       "      <th>0</th>\n",
       "      <td>5008804L</td>\n",
       "      <td>06042, CT, 31 Mitchell Road</td>\n",
       "    </tr>\n",
       "    <tr>\n",
       "      <th>1</th>\n",
       "      <td>5008805G</td>\n",
       "      <td>72703, AR, 1189 Northwest End Avenue</td>\n",
       "    </tr>\n",
       "    <tr>\n",
       "      <th>2</th>\n",
       "      <td>5008806D</td>\n",
       "      <td>72701, AR, 218 Shipley Alley</td>\n",
       "    </tr>\n",
       "    <tr>\n",
       "      <th>3</th>\n",
       "      <td>5008808I</td>\n",
       "      <td>3138 P Street Northwest, 20007, DC</td>\n",
       "    </tr>\n",
       "    <tr>\n",
       "      <th>4</th>\n",
       "      <td>5008809Z</td>\n",
       "      <td>2405 230th Street, 21122, MD</td>\n",
       "    </tr>\n",
       "  </tbody>\n",
       "</table>\n",
       "</div>"
      ],
      "text/plain": [
       "     New_ID                               ADDRESS\n",
       "0  5008804L           06042, CT, 31 Mitchell Road\n",
       "1  5008805G  72703, AR, 1189 Northwest End Avenue\n",
       "2  5008806D          72701, AR, 218 Shipley Alley\n",
       "3  5008808I    3138 P Street Northwest, 20007, DC\n",
       "4  5008809Z          2405 230th Street, 21122, MD"
      ]
     },
     "execution_count": 5,
     "metadata": {},
     "output_type": "execute_result"
    }
   ],
   "source": [
    "df_address.head()"
   ]
  },
  {
   "cell_type": "code",
   "execution_count": 6,
   "metadata": {},
   "outputs": [
    {
     "data": {
      "text/html": [
       "<div>\n",
       "<style scoped>\n",
       "    .dataframe tbody tr th:only-of-type {\n",
       "        vertical-align: middle;\n",
       "    }\n",
       "\n",
       "    .dataframe tbody tr th {\n",
       "        vertical-align: top;\n",
       "    }\n",
       "\n",
       "    .dataframe thead th {\n",
       "        text-align: right;\n",
       "    }\n",
       "</style>\n",
       "<table border=\"1\" class=\"dataframe\">\n",
       "  <thead>\n",
       "    <tr style=\"text-align: right;\">\n",
       "      <th></th>\n",
       "      <th>ID</th>\n",
       "      <th>MONTHS_BALANCE</th>\n",
       "      <th>STATUS</th>\n",
       "    </tr>\n",
       "  </thead>\n",
       "  <tbody>\n",
       "    <tr>\n",
       "      <th>0</th>\n",
       "      <td>5001711</td>\n",
       "      <td>0</td>\n",
       "      <td>X</td>\n",
       "    </tr>\n",
       "    <tr>\n",
       "      <th>1</th>\n",
       "      <td>5001711</td>\n",
       "      <td>-1</td>\n",
       "      <td>0</td>\n",
       "    </tr>\n",
       "    <tr>\n",
       "      <th>2</th>\n",
       "      <td>5001711</td>\n",
       "      <td>-2</td>\n",
       "      <td>0</td>\n",
       "    </tr>\n",
       "    <tr>\n",
       "      <th>3</th>\n",
       "      <td>5001711</td>\n",
       "      <td>-3</td>\n",
       "      <td>0</td>\n",
       "    </tr>\n",
       "    <tr>\n",
       "      <th>4</th>\n",
       "      <td>5001712</td>\n",
       "      <td>0</td>\n",
       "      <td>C</td>\n",
       "    </tr>\n",
       "  </tbody>\n",
       "</table>\n",
       "</div>"
      ],
      "text/plain": [
       "        ID  MONTHS_BALANCE STATUS\n",
       "0  5001711               0      X\n",
       "1  5001711              -1      0\n",
       "2  5001711              -2      0\n",
       "3  5001711              -3      0\n",
       "4  5001712               0      C"
      ]
     },
     "execution_count": 6,
     "metadata": {},
     "output_type": "execute_result"
    }
   ],
   "source": [
    "df_paid.head()"
   ]
  },
  {
   "cell_type": "code",
   "execution_count": 7,
   "metadata": {},
   "outputs": [
    {
     "name": "stdout",
     "output_type": "stream",
     "text": [
      "<class 'pandas.core.frame.DataFrame'>\n",
      "RangeIndex: 438757 entries, 0 to 438756\n",
      "Data columns (total 19 columns):\n",
      " #   Column               Non-Null Count   Dtype  \n",
      "---  ------               --------------   -----  \n",
      " 0   CODE_GENDER          427894 non-null  object \n",
      " 1   FLAG_OWN_CAR         427705 non-null  object \n",
      " 2   FLAG_OWN_REALTY      427806 non-null  object \n",
      " 3   CNT_CHILDREN         427826 non-null  float64\n",
      " 4   AMT_INCOME_TOTAL     427624 non-null  float64\n",
      " 5   NAME_INCOME_TYPE     427718 non-null  object \n",
      " 6   NAME_EDUCATION_TYPE  427654 non-null  object \n",
      " 7   NAME_FAMILY_STATUS   427772 non-null  object \n",
      " 8   NAME_HOUSING_TYPE    427693 non-null  object \n",
      " 9   DAYS_EMPLOYED        427784 non-null  float64\n",
      " 10  FLAG_MOBIL           427690 non-null  float64\n",
      " 11  FLAG_WORK_PHONE      427715 non-null  float64\n",
      " 12  FLAG_PHONE           427674 non-null  float64\n",
      " 13  FLAG_EMAIL           427770 non-null  float64\n",
      " 14  OCCUPATION_TYPE      296952 non-null  object \n",
      " 15  CNT_FAM_MEMBERS      427823 non-null  float64\n",
      " 16  DAYS_BIRTH_CLEAN     428042 non-null  object \n",
      " 17  Letter               438757 non-null  object \n",
      " 18  Main_ID              438757 non-null  int64  \n",
      "dtypes: float64(8), int64(1), object(10)\n",
      "memory usage: 46.9+ MB\n"
     ]
    }
   ],
   "source": [
    "df_main.info()"
   ]
  },
  {
   "cell_type": "code",
   "execution_count": 8,
   "metadata": {},
   "outputs": [
    {
     "data": {
      "text/plain": [
       "CODE_GENDER             10863\n",
       "FLAG_OWN_CAR            11052\n",
       "FLAG_OWN_REALTY         10951\n",
       "CNT_CHILDREN            10931\n",
       "AMT_INCOME_TOTAL        11133\n",
       "NAME_INCOME_TYPE        11039\n",
       "NAME_EDUCATION_TYPE     11103\n",
       "NAME_FAMILY_STATUS      10985\n",
       "NAME_HOUSING_TYPE       11064\n",
       "DAYS_EMPLOYED           10973\n",
       "FLAG_MOBIL              11067\n",
       "FLAG_WORK_PHONE         11042\n",
       "FLAG_PHONE              11083\n",
       "FLAG_EMAIL              10987\n",
       "OCCUPATION_TYPE        141805\n",
       "CNT_FAM_MEMBERS         10934\n",
       "DAYS_BIRTH_CLEAN        10715\n",
       "Letter                      0\n",
       "Main_ID                     0\n",
       "dtype: int64"
      ]
     },
     "execution_count": 8,
     "metadata": {},
     "output_type": "execute_result"
    }
   ],
   "source": [
    "df_main.isna().sum()"
   ]
  },
  {
   "cell_type": "code",
   "execution_count": 9,
   "metadata": {},
   "outputs": [
    {
     "name": "stdout",
     "output_type": "stream",
     "text": [
      "<class 'pandas.core.frame.DataFrame'>\n",
      "RangeIndex: 438757 entries, 0 to 438756\n",
      "Data columns (total 2 columns):\n",
      " #   Column   Non-Null Count   Dtype \n",
      "---  ------   --------------   ----- \n",
      " 0   New_ID   438757 non-null  object\n",
      " 1   ADDRESS  438757 non-null  object\n",
      "dtypes: object(2)\n",
      "memory usage: 3.3+ MB\n"
     ]
    }
   ],
   "source": [
    "df_address.info()"
   ]
  },
  {
   "cell_type": "code",
   "execution_count": 10,
   "metadata": {},
   "outputs": [
    {
     "data": {
      "text/plain": [
       "ID                0\n",
       "MONTHS_BALANCE    0\n",
       "STATUS            0\n",
       "dtype: int64"
      ]
     },
     "execution_count": 10,
     "metadata": {},
     "output_type": "execute_result"
    }
   ],
   "source": [
    "df_paid.isna().sum()"
   ]
  },
  {
   "cell_type": "code",
   "execution_count": 11,
   "metadata": {},
   "outputs": [
    {
     "data": {
      "text/plain": [
       "New_ID     0\n",
       "ADDRESS    0\n",
       "dtype: int64"
      ]
     },
     "execution_count": 11,
     "metadata": {},
     "output_type": "execute_result"
    }
   ],
   "source": [
    "df_address.isna().sum()"
   ]
  },
  {
   "cell_type": "code",
   "execution_count": 12,
   "metadata": {},
   "outputs": [
    {
     "data": {
      "text/plain": [
       "0                    06042, CT, 31 Mitchell Road\n",
       "1           72703, AR, 1189 Northwest End Avenue\n",
       "2                   72701, AR, 218 Shipley Alley\n",
       "3             3138 P Street Northwest, 20007, DC\n",
       "4                   2405 230th Street, 21122, MD\n",
       "                           ...                  \n",
       "438752            37080, TN, 7730 Wilkinson Road\n",
       "438753       2815 Saint Edwards Drive, 37211, TN\n",
       "438754            85306, AZ, 5434 West Beck Lane\n",
       "438755                 05641, VT, 21 Hill Street\n",
       "438756    73120, OK, 2316 Northwest 113th Street\n",
       "Name: ADDRESS, Length: 438757, dtype: object"
      ]
     },
     "execution_count": 12,
     "metadata": {},
     "output_type": "execute_result"
    }
   ],
   "source": [
    "df_address['ADDRESS']"
   ]
  },
  {
   "cell_type": "code",
   "execution_count": 13,
   "metadata": {},
   "outputs": [
    {
     "data": {
      "text/plain": [
       "CODE_GENDER             object\n",
       "FLAG_OWN_CAR            object\n",
       "FLAG_OWN_REALTY         object\n",
       "CNT_CHILDREN           float64\n",
       "AMT_INCOME_TOTAL       float64\n",
       "NAME_INCOME_TYPE        object\n",
       "NAME_EDUCATION_TYPE     object\n",
       "NAME_FAMILY_STATUS      object\n",
       "NAME_HOUSING_TYPE       object\n",
       "DAYS_EMPLOYED          float64\n",
       "FLAG_MOBIL             float64\n",
       "FLAG_WORK_PHONE        float64\n",
       "FLAG_PHONE             float64\n",
       "FLAG_EMAIL             float64\n",
       "OCCUPATION_TYPE         object\n",
       "CNT_FAM_MEMBERS        float64\n",
       "DAYS_BIRTH_CLEAN        object\n",
       "Letter                  object\n",
       "Main_ID                  int64\n",
       "dtype: object"
      ]
     },
     "execution_count": 13,
     "metadata": {},
     "output_type": "execute_result"
    }
   ],
   "source": [
    "df_main.dtypes"
   ]
  },
  {
   "cell_type": "code",
   "execution_count": 14,
   "metadata": {},
   "outputs": [],
   "source": [
    "df_main[\"CODE_GENDER\"].fillna('F', inplace=True)\n",
    "df_main[\"FLAG_OWN_CAR\"].fillna('N', inplace=True)\n",
    "df_main[\"FLAG_OWN_REALTY\"].fillna('Y', inplace=True)"
   ]
  },
  {
   "cell_type": "code",
   "execution_count": 15,
   "metadata": {},
   "outputs": [
    {
     "data": {
      "text/plain": [
       "0          True\n",
       "1          True\n",
       "2          True\n",
       "3         False\n",
       "4         False\n",
       "          ...  \n",
       "438752    False\n",
       "438753     True\n",
       "438754    False\n",
       "438755    False\n",
       "438756    False\n",
       "Name: FLAG_OWN_CAR, Length: 438757, dtype: bool"
      ]
     },
     "execution_count": 15,
     "metadata": {},
     "output_type": "execute_result"
    }
   ],
   "source": [
    "#change flag Yes/No in Own Car variables to boolean\n",
    "df_main.loc[df_main['FLAG_OWN_CAR'] == 'Y', 'FLAG_OWN_CAR'] = 1\n",
    "df_main.loc[df_main['FLAG_OWN_CAR'] == 'N', 'FLAG_OWN_CAR'] = 0\n",
    "df_main['FLAG_OWN_CAR'] = df_main['FLAG_OWN_CAR'].astype('bool')\n",
    "df_main['FLAG_OWN_CAR']"
   ]
  },
  {
   "cell_type": "code",
   "execution_count": 16,
   "metadata": {},
   "outputs": [
    {
     "name": "stdout",
     "output_type": "stream",
     "text": [
      "<class 'pandas.core.frame.DataFrame'>\n",
      "RangeIndex: 438757 entries, 0 to 438756\n",
      "Data columns (total 19 columns):\n",
      " #   Column               Non-Null Count   Dtype  \n",
      "---  ------               --------------   -----  \n",
      " 0   CODE_GENDER          438757 non-null  object \n",
      " 1   FLAG_OWN_CAR         438757 non-null  bool   \n",
      " 2   FLAG_OWN_REALTY      438757 non-null  object \n",
      " 3   CNT_CHILDREN         427826 non-null  float64\n",
      " 4   AMT_INCOME_TOTAL     427624 non-null  float64\n",
      " 5   NAME_INCOME_TYPE     427718 non-null  object \n",
      " 6   NAME_EDUCATION_TYPE  427654 non-null  object \n",
      " 7   NAME_FAMILY_STATUS   427772 non-null  object \n",
      " 8   NAME_HOUSING_TYPE    427693 non-null  object \n",
      " 9   DAYS_EMPLOYED        427784 non-null  float64\n",
      " 10  FLAG_MOBIL           427690 non-null  float64\n",
      " 11  FLAG_WORK_PHONE      427715 non-null  float64\n",
      " 12  FLAG_PHONE           427674 non-null  float64\n",
      " 13  FLAG_EMAIL           427770 non-null  float64\n",
      " 14  OCCUPATION_TYPE      296952 non-null  object \n",
      " 15  CNT_FAM_MEMBERS      427823 non-null  float64\n",
      " 16  DAYS_BIRTH_CLEAN     428042 non-null  object \n",
      " 17  Letter               438757 non-null  object \n",
      " 18  Main_ID              438757 non-null  int64  \n",
      "dtypes: bool(1), float64(8), int64(1), object(9)\n",
      "memory usage: 45.6+ MB\n"
     ]
    }
   ],
   "source": [
    "df_main.info()"
   ]
  },
  {
   "cell_type": "code",
   "execution_count": 17,
   "metadata": {},
   "outputs": [
    {
     "data": {
      "text/plain": [
       "0          True\n",
       "1          True\n",
       "2          True\n",
       "3          True\n",
       "4          True\n",
       "          ...  \n",
       "438752    False\n",
       "438753     True\n",
       "438754     True\n",
       "438755     True\n",
       "438756     True\n",
       "Name: FLAG_OWN_REALTY, Length: 438757, dtype: bool"
      ]
     },
     "execution_count": 17,
     "metadata": {},
     "output_type": "execute_result"
    }
   ],
   "source": [
    "#change flag Yes/No in OWN_REALTY  variables to boolean\n",
    "df_main.loc[df_main['FLAG_OWN_REALTY'] == 'Y', 'FLAG_OWN_REALTY'] = 1\n",
    "df_main.loc[df_main['FLAG_OWN_REALTY'] == 'N', 'FLAG_OWN_REALTY'] = 0\n",
    "df_main['FLAG_OWN_REALTY'] = df_main['FLAG_OWN_REALTY'].astype('bool')\n",
    "df_main['FLAG_OWN_REALTY']"
   ]
  },
  {
   "cell_type": "code",
   "execution_count": 18,
   "metadata": {},
   "outputs": [
    {
     "data": {
      "text/plain": [
       "array([ True, False])"
      ]
     },
     "execution_count": 18,
     "metadata": {},
     "output_type": "execute_result"
    }
   ],
   "source": [
    "df_main.FLAG_OWN_REALTY.unique()"
   ]
  },
  {
   "cell_type": "code",
   "execution_count": 19,
   "metadata": {},
   "outputs": [],
   "source": [
    "\n",
    "del(df_main[\"FLAG_MOBIL\"])\n",
    "\n",
    "def obtener_lista_variables(dataset):\n",
    "    lista_numericas=[]\n",
    "    lista_boolean=[]\n",
    "    lista_categoricas=[]\n",
    "\n",
    "    for i in dataset:\n",
    "        if    (dataset[i].dtype.kind in (\"f\",\"i\")):\n",
    "              lista_numericas.append(i)\n",
    "        elif  (dataset[i].dtype.kind in (\"f\",\"i\", \"O\")) and len(dataset[i].unique())== 2:\n",
    "              lista_boolean.append(i)\n",
    "        elif  (dataset[i].dtype.kind == \"O\"):\n",
    "              lista_categoricas.append(i)\n",
    "                \n",
    "    return lista_numericas, lista_boolean, lista_categoricas\n",
    "lista_numericas, lista_boolean, lista_categoricas= obtener_lista_variables(df_main)\n",
    "\n",
    "for i in lista_numericas:\n",
    "    median_columna = df_main[i].median()\n",
    "    df_main[i].fillna(median_columna, inplace=True)\n",
    "    \n",
    "df_main[\"NAME_INCOME_TYPE\"].fillna('Working', inplace=True)\n",
    "df_main[\"NAME_EDUCATION_TYPE\"].fillna('Secondary / secondary special', inplace=True)\n",
    "df_main[\"NAME_FAMILY_STATUS\"].fillna('Married', inplace=True)\n",
    "df_main[\"NAME_HOUSING_TYPE\"].fillna('House / apartment', inplace=True)\n",
    "df_main[\"OCCUPATION_TYPE\"].fillna('Laborers', inplace=True)"
   ]
  },
  {
   "cell_type": "code",
   "execution_count": 20,
   "metadata": {},
   "outputs": [],
   "source": [
    "#cast DAYS_BIRTH_CLEAN as datetime\n",
    "df_main['BIRTH_YEAR'] = pd.to_datetime(df_main['DAYS_BIRTH_CLEAN'], format='%d/%m/%Y').dt.year"
   ]
  },
  {
   "cell_type": "code",
   "execution_count": 21,
   "metadata": {},
   "outputs": [],
   "source": [
    "df_main['AGE'] = 2023 - df_main['BIRTH_YEAR']"
   ]
  },
  {
   "cell_type": "code",
   "execution_count": 22,
   "metadata": {},
   "outputs": [
    {
     "data": {
      "text/plain": [
       "0         33.0\n",
       "1         33.0\n",
       "2         59.0\n",
       "3         53.0\n",
       "4         53.0\n",
       "          ... \n",
       "438752    32.0\n",
       "438753    45.0\n",
       "438754    49.0\n",
       "438755    58.0\n",
       "438756    34.0\n",
       "Name: AGE, Length: 438757, dtype: float64"
      ]
     },
     "execution_count": 22,
     "metadata": {},
     "output_type": "execute_result"
    }
   ],
   "source": [
    "df_main['AGE']"
   ]
  },
  {
   "cell_type": "code",
   "execution_count": 23,
   "metadata": {
    "scrolled": true
   },
   "outputs": [
    {
     "data": {
      "text/plain": [
       "0        -4542.0\n",
       "1        -4542.0\n",
       "2        -1134.0\n",
       "3        -3051.0\n",
       "4        -3051.0\n",
       "           ...  \n",
       "438752   -3331.0\n",
       "438753   -5941.0\n",
       "438754    -880.0\n",
       "438755    -885.0\n",
       "438756    -783.0\n",
       "Name: DAYS_EMPLOYED, Length: 365386, dtype: float64"
      ]
     },
     "execution_count": 23,
     "metadata": {},
     "output_type": "execute_result"
    }
   ],
   "source": [
    "df_main.loc[df_main['DAYS_EMPLOYED'] < 0, 'DAYS_EMPLOYED']"
   ]
  },
  {
   "cell_type": "code",
   "execution_count": 24,
   "metadata": {},
   "outputs": [],
   "source": [
    "df_main.loc[df_main['DAYS_EMPLOYED'] >= 0, 'DAYS_EMPLOYED'] = 0"
   ]
  },
  {
   "cell_type": "code",
   "execution_count": 25,
   "metadata": {},
   "outputs": [],
   "source": [
    "df_main.loc[df_main['DAYS_EMPLOYED'] < 0, 'DAYS_EMPLOYED'] = 1"
   ]
  },
  {
   "cell_type": "markdown",
   "metadata": {},
   "source": [
    "Merge"
   ]
  },
  {
   "cell_type": "code",
   "execution_count": 26,
   "metadata": {},
   "outputs": [],
   "source": [
    "df_paid = df_paid[['ID','STATUS']]"
   ]
  },
  {
   "cell_type": "code",
   "execution_count": 27,
   "metadata": {},
   "outputs": [],
   "source": [
    "df_main = df_main[['Main_ID','CODE_GENDER', 'FLAG_OWN_CAR', 'FLAG_OWN_REALTY', 'CNT_CHILDREN', 'AMT_INCOME_TOTAL', 'AGE', 'DAYS_EMPLOYED','CNT_FAM_MEMBERS']]"
   ]
  },
  {
   "cell_type": "code",
   "execution_count": 28,
   "metadata": {},
   "outputs": [],
   "source": [
    "df_final = df_main.merge(df_paid, left_on = 'Main_ID', right_on = 'ID')"
   ]
  },
  {
   "cell_type": "code",
   "execution_count": null,
   "metadata": {},
   "outputs": [],
   "source": []
  },
  {
   "cell_type": "code",
   "execution_count": 29,
   "metadata": {},
   "outputs": [
    {
     "data": {
      "text/html": [
       "<div>\n",
       "<style scoped>\n",
       "    .dataframe tbody tr th:only-of-type {\n",
       "        vertical-align: middle;\n",
       "    }\n",
       "\n",
       "    .dataframe tbody tr th {\n",
       "        vertical-align: top;\n",
       "    }\n",
       "\n",
       "    .dataframe thead th {\n",
       "        text-align: right;\n",
       "    }\n",
       "</style>\n",
       "<table border=\"1\" class=\"dataframe\">\n",
       "  <thead>\n",
       "    <tr style=\"text-align: right;\">\n",
       "      <th></th>\n",
       "      <th>Main_ID</th>\n",
       "      <th>CODE_GENDER</th>\n",
       "      <th>FLAG_OWN_CAR</th>\n",
       "      <th>FLAG_OWN_REALTY</th>\n",
       "      <th>CNT_CHILDREN</th>\n",
       "      <th>AMT_INCOME_TOTAL</th>\n",
       "      <th>AGE</th>\n",
       "      <th>DAYS_EMPLOYED</th>\n",
       "      <th>CNT_FAM_MEMBERS</th>\n",
       "      <th>ID</th>\n",
       "      <th>STATUS</th>\n",
       "    </tr>\n",
       "  </thead>\n",
       "  <tbody>\n",
       "    <tr>\n",
       "      <th>0</th>\n",
       "      <td>5008804</td>\n",
       "      <td>M</td>\n",
       "      <td>True</td>\n",
       "      <td>True</td>\n",
       "      <td>0.0</td>\n",
       "      <td>427500.0</td>\n",
       "      <td>33.0</td>\n",
       "      <td>1.0</td>\n",
       "      <td>2.0</td>\n",
       "      <td>5008804</td>\n",
       "      <td>C</td>\n",
       "    </tr>\n",
       "    <tr>\n",
       "      <th>1</th>\n",
       "      <td>5008804</td>\n",
       "      <td>M</td>\n",
       "      <td>True</td>\n",
       "      <td>True</td>\n",
       "      <td>0.0</td>\n",
       "      <td>427500.0</td>\n",
       "      <td>33.0</td>\n",
       "      <td>1.0</td>\n",
       "      <td>2.0</td>\n",
       "      <td>5008804</td>\n",
       "      <td>C</td>\n",
       "    </tr>\n",
       "    <tr>\n",
       "      <th>2</th>\n",
       "      <td>5008804</td>\n",
       "      <td>M</td>\n",
       "      <td>True</td>\n",
       "      <td>True</td>\n",
       "      <td>0.0</td>\n",
       "      <td>427500.0</td>\n",
       "      <td>33.0</td>\n",
       "      <td>1.0</td>\n",
       "      <td>2.0</td>\n",
       "      <td>5008804</td>\n",
       "      <td>C</td>\n",
       "    </tr>\n",
       "    <tr>\n",
       "      <th>3</th>\n",
       "      <td>5008804</td>\n",
       "      <td>M</td>\n",
       "      <td>True</td>\n",
       "      <td>True</td>\n",
       "      <td>0.0</td>\n",
       "      <td>427500.0</td>\n",
       "      <td>33.0</td>\n",
       "      <td>1.0</td>\n",
       "      <td>2.0</td>\n",
       "      <td>5008804</td>\n",
       "      <td>C</td>\n",
       "    </tr>\n",
       "    <tr>\n",
       "      <th>4</th>\n",
       "      <td>5008804</td>\n",
       "      <td>M</td>\n",
       "      <td>True</td>\n",
       "      <td>True</td>\n",
       "      <td>0.0</td>\n",
       "      <td>427500.0</td>\n",
       "      <td>33.0</td>\n",
       "      <td>1.0</td>\n",
       "      <td>2.0</td>\n",
       "      <td>5008804</td>\n",
       "      <td>C</td>\n",
       "    </tr>\n",
       "  </tbody>\n",
       "</table>\n",
       "</div>"
      ],
      "text/plain": [
       "   Main_ID CODE_GENDER  FLAG_OWN_CAR  FLAG_OWN_REALTY  CNT_CHILDREN  \\\n",
       "0  5008804           M          True             True           0.0   \n",
       "1  5008804           M          True             True           0.0   \n",
       "2  5008804           M          True             True           0.0   \n",
       "3  5008804           M          True             True           0.0   \n",
       "4  5008804           M          True             True           0.0   \n",
       "\n",
       "   AMT_INCOME_TOTAL   AGE  DAYS_EMPLOYED  CNT_FAM_MEMBERS       ID STATUS  \n",
       "0          427500.0  33.0            1.0              2.0  5008804      C  \n",
       "1          427500.0  33.0            1.0              2.0  5008804      C  \n",
       "2          427500.0  33.0            1.0              2.0  5008804      C  \n",
       "3          427500.0  33.0            1.0              2.0  5008804      C  \n",
       "4          427500.0  33.0            1.0              2.0  5008804      C  "
      ]
     },
     "execution_count": 29,
     "metadata": {},
     "output_type": "execute_result"
    }
   ],
   "source": [
    "df_final.head()"
   ]
  },
  {
   "cell_type": "code",
   "execution_count": 30,
   "metadata": {},
   "outputs": [
    {
     "data": {
      "text/plain": [
       "C    330916\n",
       "0    291813\n",
       "X    146421\n",
       "1      8797\n",
       "5      1527\n",
       "2       801\n",
       "3       286\n",
       "4       214\n",
       "Name: STATUS, dtype: int64"
      ]
     },
     "execution_count": 30,
     "metadata": {},
     "output_type": "execute_result"
    }
   ],
   "source": [
    "df_final['STATUS'].value_counts()"
   ]
  },
  {
   "cell_type": "code",
   "execution_count": 31,
   "metadata": {},
   "outputs": [],
   "source": [
    "df_final['TARGET'] = df_final['STATUS'].isin(['C', 'X', '0'])"
   ]
  },
  {
   "cell_type": "code",
   "execution_count": 32,
   "metadata": {},
   "outputs": [
    {
     "data": {
      "text/plain": [
       "True     769150\n",
       "False     11625\n",
       "Name: TARGET, dtype: int64"
      ]
     },
     "execution_count": 32,
     "metadata": {},
     "output_type": "execute_result"
    }
   ],
   "source": [
    "df_final['TARGET'].value_counts()"
   ]
  },
  {
   "cell_type": "code",
   "execution_count": 33,
   "metadata": {},
   "outputs": [],
   "source": [
    "df_final['TARGET'] = df_final['TARGET'].astype('int32')"
   ]
  },
  {
   "cell_type": "code",
   "execution_count": 34,
   "metadata": {},
   "outputs": [
    {
     "data": {
      "text/plain": [
       "array([1, 0])"
      ]
     },
     "execution_count": 34,
     "metadata": {},
     "output_type": "execute_result"
    }
   ],
   "source": [
    "df_final['TARGET'].unique()"
   ]
  },
  {
   "cell_type": "code",
   "execution_count": 35,
   "metadata": {},
   "outputs": [
    {
     "data": {
      "text/html": [
       "<style  type=\"text/css\" >\n",
       "#T_5ba9e016_b901_11ed_8876_1c1bb5837c31row0_col0,#T_5ba9e016_b901_11ed_8876_1c1bb5837c31row0_col8,#T_5ba9e016_b901_11ed_8876_1c1bb5837c31row1_col1,#T_5ba9e016_b901_11ed_8876_1c1bb5837c31row2_col2,#T_5ba9e016_b901_11ed_8876_1c1bb5837c31row3_col3,#T_5ba9e016_b901_11ed_8876_1c1bb5837c31row4_col4,#T_5ba9e016_b901_11ed_8876_1c1bb5837c31row5_col5,#T_5ba9e016_b901_11ed_8876_1c1bb5837c31row6_col6,#T_5ba9e016_b901_11ed_8876_1c1bb5837c31row7_col7,#T_5ba9e016_b901_11ed_8876_1c1bb5837c31row8_col0,#T_5ba9e016_b901_11ed_8876_1c1bb5837c31row8_col8,#T_5ba9e016_b901_11ed_8876_1c1bb5837c31row9_col9{\n",
       "            background-color:  #023858;\n",
       "            color:  #f1f1f1;\n",
       "        }#T_5ba9e016_b901_11ed_8876_1c1bb5837c31row0_col1,#T_5ba9e016_b901_11ed_8876_1c1bb5837c31row8_col1{\n",
       "            background-color:  #ece7f2;\n",
       "            color:  #000000;\n",
       "        }#T_5ba9e016_b901_11ed_8876_1c1bb5837c31row0_col2,#T_5ba9e016_b901_11ed_8876_1c1bb5837c31row0_col9,#T_5ba9e016_b901_11ed_8876_1c1bb5837c31row2_col0,#T_5ba9e016_b901_11ed_8876_1c1bb5837c31row2_col8,#T_5ba9e016_b901_11ed_8876_1c1bb5837c31row3_col9,#T_5ba9e016_b901_11ed_8876_1c1bb5837c31row4_col9,#T_5ba9e016_b901_11ed_8876_1c1bb5837c31row5_col1,#T_5ba9e016_b901_11ed_8876_1c1bb5837c31row5_col3,#T_5ba9e016_b901_11ed_8876_1c1bb5837c31row5_col4,#T_5ba9e016_b901_11ed_8876_1c1bb5837c31row5_col6,#T_5ba9e016_b901_11ed_8876_1c1bb5837c31row5_col7,#T_5ba9e016_b901_11ed_8876_1c1bb5837c31row6_col5,#T_5ba9e016_b901_11ed_8876_1c1bb5837c31row6_col9,#T_5ba9e016_b901_11ed_8876_1c1bb5837c31row8_col2,#T_5ba9e016_b901_11ed_8876_1c1bb5837c31row8_col9{\n",
       "            background-color:  #fff7fb;\n",
       "            color:  #000000;\n",
       "        }#T_5ba9e016_b901_11ed_8876_1c1bb5837c31row0_col3,#T_5ba9e016_b901_11ed_8876_1c1bb5837c31row1_col5,#T_5ba9e016_b901_11ed_8876_1c1bb5837c31row8_col3{\n",
       "            background-color:  #c6cce3;\n",
       "            color:  #000000;\n",
       "        }#T_5ba9e016_b901_11ed_8876_1c1bb5837c31row0_col4,#T_5ba9e016_b901_11ed_8876_1c1bb5837c31row8_col4{\n",
       "            background-color:  #f8f1f8;\n",
       "            color:  #000000;\n",
       "        }#T_5ba9e016_b901_11ed_8876_1c1bb5837c31row0_col5,#T_5ba9e016_b901_11ed_8876_1c1bb5837c31row8_col5{\n",
       "            background-color:  #afc1dd;\n",
       "            color:  #000000;\n",
       "        }#T_5ba9e016_b901_11ed_8876_1c1bb5837c31row0_col6,#T_5ba9e016_b901_11ed_8876_1c1bb5837c31row8_col6{\n",
       "            background-color:  #a1bbda;\n",
       "            color:  #000000;\n",
       "        }#T_5ba9e016_b901_11ed_8876_1c1bb5837c31row0_col7,#T_5ba9e016_b901_11ed_8876_1c1bb5837c31row8_col7{\n",
       "            background-color:  #cccfe5;\n",
       "            color:  #000000;\n",
       "        }#T_5ba9e016_b901_11ed_8876_1c1bb5837c31row1_col0,#T_5ba9e016_b901_11ed_8876_1c1bb5837c31row1_col8{\n",
       "            background-color:  #f4edf6;\n",
       "            color:  #000000;\n",
       "        }#T_5ba9e016_b901_11ed_8876_1c1bb5837c31row1_col2,#T_5ba9e016_b901_11ed_8876_1c1bb5837c31row9_col4{\n",
       "            background-color:  #f5eef6;\n",
       "            color:  #000000;\n",
       "        }#T_5ba9e016_b901_11ed_8876_1c1bb5837c31row1_col3{\n",
       "            background-color:  #b3c3de;\n",
       "            color:  #000000;\n",
       "        }#T_5ba9e016_b901_11ed_8876_1c1bb5837c31row1_col4,#T_5ba9e016_b901_11ed_8876_1c1bb5837c31row4_col7,#T_5ba9e016_b901_11ed_8876_1c1bb5837c31row6_col1,#T_5ba9e016_b901_11ed_8876_1c1bb5837c31row7_col1{\n",
       "            background-color:  #cacee5;\n",
       "            color:  #000000;\n",
       "        }#T_5ba9e016_b901_11ed_8876_1c1bb5837c31row1_col6{\n",
       "            background-color:  #80aed2;\n",
       "            color:  #000000;\n",
       "        }#T_5ba9e016_b901_11ed_8876_1c1bb5837c31row1_col7{\n",
       "            background-color:  #acc0dd;\n",
       "            color:  #000000;\n",
       "        }#T_5ba9e016_b901_11ed_8876_1c1bb5837c31row1_col9{\n",
       "            background-color:  #fef6fa;\n",
       "            color:  #000000;\n",
       "        }#T_5ba9e016_b901_11ed_8876_1c1bb5837c31row2_col1,#T_5ba9e016_b901_11ed_8876_1c1bb5837c31row7_col0,#T_5ba9e016_b901_11ed_8876_1c1bb5837c31row7_col8{\n",
       "            background-color:  #eee8f3;\n",
       "            color:  #000000;\n",
       "        }#T_5ba9e016_b901_11ed_8876_1c1bb5837c31row2_col3{\n",
       "            background-color:  #d0d1e6;\n",
       "            color:  #000000;\n",
       "        }#T_5ba9e016_b901_11ed_8876_1c1bb5837c31row2_col4,#T_5ba9e016_b901_11ed_8876_1c1bb5837c31row6_col0,#T_5ba9e016_b901_11ed_8876_1c1bb5837c31row6_col8{\n",
       "            background-color:  #efe9f3;\n",
       "            color:  #000000;\n",
       "        }#T_5ba9e016_b901_11ed_8876_1c1bb5837c31row2_col5{\n",
       "            background-color:  #84b0d3;\n",
       "            color:  #000000;\n",
       "        }#T_5ba9e016_b901_11ed_8876_1c1bb5837c31row2_col6{\n",
       "            background-color:  #b8c6e0;\n",
       "            color:  #000000;\n",
       "        }#T_5ba9e016_b901_11ed_8876_1c1bb5837c31row2_col7,#T_5ba9e016_b901_11ed_8876_1c1bb5837c31row6_col4{\n",
       "            background-color:  #d4d4e8;\n",
       "            color:  #000000;\n",
       "        }#T_5ba9e016_b901_11ed_8876_1c1bb5837c31row2_col9{\n",
       "            background-color:  #fdf5fa;\n",
       "            color:  #000000;\n",
       "        }#T_5ba9e016_b901_11ed_8876_1c1bb5837c31row3_col0,#T_5ba9e016_b901_11ed_8876_1c1bb5837c31row3_col4,#T_5ba9e016_b901_11ed_8876_1c1bb5837c31row3_col8{\n",
       "            background-color:  #eee9f3;\n",
       "            color:  #000000;\n",
       "        }#T_5ba9e016_b901_11ed_8876_1c1bb5837c31row3_col1{\n",
       "            background-color:  #d6d6e9;\n",
       "            color:  #000000;\n",
       "        }#T_5ba9e016_b901_11ed_8876_1c1bb5837c31row3_col2,#T_5ba9e016_b901_11ed_8876_1c1bb5837c31row9_col0,#T_5ba9e016_b901_11ed_8876_1c1bb5837c31row9_col8{\n",
       "            background-color:  #f3edf5;\n",
       "            color:  #000000;\n",
       "        }#T_5ba9e016_b901_11ed_8876_1c1bb5837c31row3_col5{\n",
       "            background-color:  #e5e1ef;\n",
       "            color:  #000000;\n",
       "        }#T_5ba9e016_b901_11ed_8876_1c1bb5837c31row3_col6,#T_5ba9e016_b901_11ed_8876_1c1bb5837c31row7_col6{\n",
       "            background-color:  #6da6cd;\n",
       "            color:  #000000;\n",
       "        }#T_5ba9e016_b901_11ed_8876_1c1bb5837c31row3_col7{\n",
       "            background-color:  #045382;\n",
       "            color:  #f1f1f1;\n",
       "        }#T_5ba9e016_b901_11ed_8876_1c1bb5837c31row4_col0,#T_5ba9e016_b901_11ed_8876_1c1bb5837c31row4_col8{\n",
       "            background-color:  #f5eff6;\n",
       "            color:  #000000;\n",
       "        }#T_5ba9e016_b901_11ed_8876_1c1bb5837c31row4_col1{\n",
       "            background-color:  #b9c6e0;\n",
       "            color:  #000000;\n",
       "        }#T_5ba9e016_b901_11ed_8876_1c1bb5837c31row4_col2{\n",
       "            background-color:  #ede8f3;\n",
       "            color:  #000000;\n",
       "        }#T_5ba9e016_b901_11ed_8876_1c1bb5837c31row4_col3{\n",
       "            background-color:  #c4cbe3;\n",
       "            color:  #000000;\n",
       "        }#T_5ba9e016_b901_11ed_8876_1c1bb5837c31row4_col5{\n",
       "            background-color:  #b7c5df;\n",
       "            color:  #000000;\n",
       "        }#T_5ba9e016_b901_11ed_8876_1c1bb5837c31row4_col6{\n",
       "            background-color:  #79abd0;\n",
       "            color:  #000000;\n",
       "        }#T_5ba9e016_b901_11ed_8876_1c1bb5837c31row5_col0,#T_5ba9e016_b901_11ed_8876_1c1bb5837c31row5_col8{\n",
       "            background-color:  #f7f0f7;\n",
       "            color:  #000000;\n",
       "        }#T_5ba9e016_b901_11ed_8876_1c1bb5837c31row5_col2{\n",
       "            background-color:  #dad9ea;\n",
       "            color:  #000000;\n",
       "        }#T_5ba9e016_b901_11ed_8876_1c1bb5837c31row5_col9{\n",
       "            background-color:  #fcf4fa;\n",
       "            color:  #000000;\n",
       "        }#T_5ba9e016_b901_11ed_8876_1c1bb5837c31row6_col2,#T_5ba9e016_b901_11ed_8876_1c1bb5837c31row7_col9{\n",
       "            background-color:  #fef6fb;\n",
       "            color:  #000000;\n",
       "        }#T_5ba9e016_b901_11ed_8876_1c1bb5837c31row6_col3{\n",
       "            background-color:  #93b5d6;\n",
       "            color:  #000000;\n",
       "        }#T_5ba9e016_b901_11ed_8876_1c1bb5837c31row6_col7{\n",
       "            background-color:  #97b7d7;\n",
       "            color:  #000000;\n",
       "        }#T_5ba9e016_b901_11ed_8876_1c1bb5837c31row7_col2{\n",
       "            background-color:  #f4eef6;\n",
       "            color:  #000000;\n",
       "        }#T_5ba9e016_b901_11ed_8876_1c1bb5837c31row7_col3{\n",
       "            background-color:  #045280;\n",
       "            color:  #f1f1f1;\n",
       "        }#T_5ba9e016_b901_11ed_8876_1c1bb5837c31row7_col4{\n",
       "            background-color:  #f0eaf4;\n",
       "            color:  #000000;\n",
       "        }#T_5ba9e016_b901_11ed_8876_1c1bb5837c31row7_col5{\n",
       "            background-color:  #e1dfed;\n",
       "            color:  #000000;\n",
       "        }#T_5ba9e016_b901_11ed_8876_1c1bb5837c31row9_col1{\n",
       "            background-color:  #e9e5f1;\n",
       "            color:  #000000;\n",
       "        }#T_5ba9e016_b901_11ed_8876_1c1bb5837c31row9_col2{\n",
       "            background-color:  #f1ebf4;\n",
       "            color:  #000000;\n",
       "        }#T_5ba9e016_b901_11ed_8876_1c1bb5837c31row9_col3{\n",
       "            background-color:  #ced0e6;\n",
       "            color:  #000000;\n",
       "        }#T_5ba9e016_b901_11ed_8876_1c1bb5837c31row9_col5{\n",
       "            background-color:  #a2bcda;\n",
       "            color:  #000000;\n",
       "        }#T_5ba9e016_b901_11ed_8876_1c1bb5837c31row9_col6{\n",
       "            background-color:  #a7bddb;\n",
       "            color:  #000000;\n",
       "        }#T_5ba9e016_b901_11ed_8876_1c1bb5837c31row9_col7{\n",
       "            background-color:  #d2d3e7;\n",
       "            color:  #000000;\n",
       "        }</style><table id=\"T_5ba9e016_b901_11ed_8876_1c1bb5837c31\" ><thead>    <tr>        <th class=\"blank level0\" ></th>        <th class=\"col_heading level0 col0\" >Main_ID</th>        <th class=\"col_heading level0 col1\" >FLAG_OWN_CAR</th>        <th class=\"col_heading level0 col2\" >FLAG_OWN_REALTY</th>        <th class=\"col_heading level0 col3\" >CNT_CHILDREN</th>        <th class=\"col_heading level0 col4\" >AMT_INCOME_TOTAL</th>        <th class=\"col_heading level0 col5\" >AGE</th>        <th class=\"col_heading level0 col6\" >DAYS_EMPLOYED</th>        <th class=\"col_heading level0 col7\" >CNT_FAM_MEMBERS</th>        <th class=\"col_heading level0 col8\" >ID</th>        <th class=\"col_heading level0 col9\" >TARGET</th>    </tr></thead><tbody>\n",
       "                <tr>\n",
       "                        <th id=\"T_5ba9e016_b901_11ed_8876_1c1bb5837c31level0_row0\" class=\"row_heading level0 row0\" >Main_ID</th>\n",
       "                        <td id=\"T_5ba9e016_b901_11ed_8876_1c1bb5837c31row0_col0\" class=\"data row0 col0\" >1.000000</td>\n",
       "                        <td id=\"T_5ba9e016_b901_11ed_8876_1c1bb5837c31row0_col1\" class=\"data row0 col1\" >-0.011518</td>\n",
       "                        <td id=\"T_5ba9e016_b901_11ed_8876_1c1bb5837c31row0_col2\" class=\"data row0 col2\" >-0.096377</td>\n",
       "                        <td id=\"T_5ba9e016_b901_11ed_8876_1c1bb5837c31row0_col3\" class=\"data row0 col3\" >0.025114</td>\n",
       "                        <td id=\"T_5ba9e016_b901_11ed_8876_1c1bb5837c31row0_col4\" class=\"data row0 col4\" >-0.026806</td>\n",
       "                        <td id=\"T_5ba9e016_b901_11ed_8876_1c1bb5837c31row0_col5\" class=\"data row0 col5\" >-0.040319</td>\n",
       "                        <td id=\"T_5ba9e016_b901_11ed_8876_1c1bb5837c31row0_col6\" class=\"data row0 col6\" >0.023196</td>\n",
       "                        <td id=\"T_5ba9e016_b901_11ed_8876_1c1bb5837c31row0_col7\" class=\"data row0 col7\" >0.028384</td>\n",
       "                        <td id=\"T_5ba9e016_b901_11ed_8876_1c1bb5837c31row0_col8\" class=\"data row0 col8\" >1.000000</td>\n",
       "                        <td id=\"T_5ba9e016_b901_11ed_8876_1c1bb5837c31row0_col9\" class=\"data row0 col9\" >-0.008423</td>\n",
       "            </tr>\n",
       "            <tr>\n",
       "                        <th id=\"T_5ba9e016_b901_11ed_8876_1c1bb5837c31level0_row1\" class=\"row_heading level0 row1\" >FLAG_OWN_CAR</th>\n",
       "                        <td id=\"T_5ba9e016_b901_11ed_8876_1c1bb5837c31row1_col0\" class=\"data row1 col0\" >-0.011518</td>\n",
       "                        <td id=\"T_5ba9e016_b901_11ed_8876_1c1bb5837c31row1_col1\" class=\"data row1 col1\" >1.000000</td>\n",
       "                        <td id=\"T_5ba9e016_b901_11ed_8876_1c1bb5837c31row1_col2\" class=\"data row1 col2\" >-0.020953</td>\n",
       "                        <td id=\"T_5ba9e016_b901_11ed_8876_1c1bb5837c31row1_col3\" class=\"data row1 col3\" >0.103701</td>\n",
       "                        <td id=\"T_5ba9e016_b901_11ed_8876_1c1bb5837c31row1_col4\" class=\"data row1 col4\" >0.209770</td>\n",
       "                        <td id=\"T_5ba9e016_b901_11ed_8876_1c1bb5837c31row1_col5\" class=\"data row1 col5\" >-0.156043</td>\n",
       "                        <td id=\"T_5ba9e016_b901_11ed_8876_1c1bb5837c31row1_col6\" class=\"data row1 col6\" >0.153027</td>\n",
       "                        <td id=\"T_5ba9e016_b901_11ed_8876_1c1bb5837c31row1_col7\" class=\"data row1 col7\" >0.151223</td>\n",
       "                        <td id=\"T_5ba9e016_b901_11ed_8876_1c1bb5837c31row1_col8\" class=\"data row1 col8\" >-0.011518</td>\n",
       "                        <td id=\"T_5ba9e016_b901_11ed_8876_1c1bb5837c31row1_col9\" class=\"data row1 col9\" >0.002740</td>\n",
       "            </tr>\n",
       "            <tr>\n",
       "                        <th id=\"T_5ba9e016_b901_11ed_8876_1c1bb5837c31level0_row2\" class=\"row_heading level0 row2\" >FLAG_OWN_REALTY</th>\n",
       "                        <td id=\"T_5ba9e016_b901_11ed_8876_1c1bb5837c31row2_col0\" class=\"data row2 col0\" >-0.096377</td>\n",
       "                        <td id=\"T_5ba9e016_b901_11ed_8876_1c1bb5837c31row2_col1\" class=\"data row2 col1\" >-0.020953</td>\n",
       "                        <td id=\"T_5ba9e016_b901_11ed_8876_1c1bb5837c31row2_col2\" class=\"data row2 col2\" >1.000000</td>\n",
       "                        <td id=\"T_5ba9e016_b901_11ed_8876_1c1bb5837c31row2_col3\" class=\"data row2 col3\" >-0.009610</td>\n",
       "                        <td id=\"T_5ba9e016_b901_11ed_8876_1c1bb5837c31row2_col4\" class=\"data row2 col4\" >0.035497</td>\n",
       "                        <td id=\"T_5ba9e016_b901_11ed_8876_1c1bb5837c31row2_col5\" class=\"data row2 col5\" >0.130454</td>\n",
       "                        <td id=\"T_5ba9e016_b901_11ed_8876_1c1bb5837c31row2_col6\" class=\"data row2 col6\" >-0.088906</td>\n",
       "                        <td id=\"T_5ba9e016_b901_11ed_8876_1c1bb5837c31row2_col7\" class=\"data row2 col7\" >-0.015838</td>\n",
       "                        <td id=\"T_5ba9e016_b901_11ed_8876_1c1bb5837c31row2_col8\" class=\"data row2 col8\" >-0.096377</td>\n",
       "                        <td id=\"T_5ba9e016_b901_11ed_8876_1c1bb5837c31row2_col9\" class=\"data row2 col9\" >0.008815</td>\n",
       "            </tr>\n",
       "            <tr>\n",
       "                        <th id=\"T_5ba9e016_b901_11ed_8876_1c1bb5837c31level0_row3\" class=\"row_heading level0 row3\" >CNT_CHILDREN</th>\n",
       "                        <td id=\"T_5ba9e016_b901_11ed_8876_1c1bb5837c31row3_col0\" class=\"data row3 col0\" >0.025114</td>\n",
       "                        <td id=\"T_5ba9e016_b901_11ed_8876_1c1bb5837c31row3_col1\" class=\"data row3 col1\" >0.103701</td>\n",
       "                        <td id=\"T_5ba9e016_b901_11ed_8876_1c1bb5837c31row3_col2\" class=\"data row3 col2\" >-0.009610</td>\n",
       "                        <td id=\"T_5ba9e016_b901_11ed_8876_1c1bb5837c31row3_col3\" class=\"data row3 col3\" >1.000000</td>\n",
       "                        <td id=\"T_5ba9e016_b901_11ed_8876_1c1bb5837c31row3_col4\" class=\"data row3 col4\" >0.039777</td>\n",
       "                        <td id=\"T_5ba9e016_b901_11ed_8876_1c1bb5837c31row3_col5\" class=\"data row3 col5\" >-0.350262</td>\n",
       "                        <td id=\"T_5ba9e016_b901_11ed_8876_1c1bb5837c31row3_col6\" class=\"data row3 col6\" >0.223481</td>\n",
       "                        <td id=\"T_5ba9e016_b901_11ed_8876_1c1bb5837c31row3_col7\" class=\"data row3 col7\" >0.868454</td>\n",
       "                        <td id=\"T_5ba9e016_b901_11ed_8876_1c1bb5837c31row3_col8\" class=\"data row3 col8\" >0.025114</td>\n",
       "                        <td id=\"T_5ba9e016_b901_11ed_8876_1c1bb5837c31row3_col9\" class=\"data row3 col9\" >-0.005315</td>\n",
       "            </tr>\n",
       "            <tr>\n",
       "                        <th id=\"T_5ba9e016_b901_11ed_8876_1c1bb5837c31level0_row4\" class=\"row_heading level0 row4\" >AMT_INCOME_TOTAL</th>\n",
       "                        <td id=\"T_5ba9e016_b901_11ed_8876_1c1bb5837c31row4_col0\" class=\"data row4 col0\" >-0.026806</td>\n",
       "                        <td id=\"T_5ba9e016_b901_11ed_8876_1c1bb5837c31row4_col1\" class=\"data row4 col1\" >0.209770</td>\n",
       "                        <td id=\"T_5ba9e016_b901_11ed_8876_1c1bb5837c31row4_col2\" class=\"data row4 col2\" >0.035497</td>\n",
       "                        <td id=\"T_5ba9e016_b901_11ed_8876_1c1bb5837c31row4_col3\" class=\"data row4 col3\" >0.039777</td>\n",
       "                        <td id=\"T_5ba9e016_b901_11ed_8876_1c1bb5837c31row4_col4\" class=\"data row4 col4\" >1.000000</td>\n",
       "                        <td id=\"T_5ba9e016_b901_11ed_8876_1c1bb5837c31row4_col5\" class=\"data row4 col5\" >-0.078530</td>\n",
       "                        <td id=\"T_5ba9e016_b901_11ed_8876_1c1bb5837c31row4_col6\" class=\"data row4 col6\" >0.173683</td>\n",
       "                        <td id=\"T_5ba9e016_b901_11ed_8876_1c1bb5837c31row4_col7\" class=\"data row4 col7\" >0.031101</td>\n",
       "                        <td id=\"T_5ba9e016_b901_11ed_8876_1c1bb5837c31row4_col8\" class=\"data row4 col8\" >-0.026806</td>\n",
       "                        <td id=\"T_5ba9e016_b901_11ed_8876_1c1bb5837c31row4_col9\" class=\"data row4 col9\" >-0.006386</td>\n",
       "            </tr>\n",
       "            <tr>\n",
       "                        <th id=\"T_5ba9e016_b901_11ed_8876_1c1bb5837c31level0_row5\" class=\"row_heading level0 row5\" >AGE</th>\n",
       "                        <td id=\"T_5ba9e016_b901_11ed_8876_1c1bb5837c31row5_col0\" class=\"data row5 col0\" >-0.040319</td>\n",
       "                        <td id=\"T_5ba9e016_b901_11ed_8876_1c1bb5837c31row5_col1\" class=\"data row5 col1\" >-0.156043</td>\n",
       "                        <td id=\"T_5ba9e016_b901_11ed_8876_1c1bb5837c31row5_col2\" class=\"data row5 col2\" >0.130454</td>\n",
       "                        <td id=\"T_5ba9e016_b901_11ed_8876_1c1bb5837c31row5_col3\" class=\"data row5 col3\" >-0.350262</td>\n",
       "                        <td id=\"T_5ba9e016_b901_11ed_8876_1c1bb5837c31row5_col4\" class=\"data row5 col4\" >-0.078530</td>\n",
       "                        <td id=\"T_5ba9e016_b901_11ed_8876_1c1bb5837c31row5_col5\" class=\"data row5 col5\" >1.000000</td>\n",
       "                        <td id=\"T_5ba9e016_b901_11ed_8876_1c1bb5837c31row5_col6\" class=\"data row5 col6\" >-0.602693</td>\n",
       "                        <td id=\"T_5ba9e016_b901_11ed_8876_1c1bb5837c31row5_col7\" class=\"data row5 col7\" >-0.321654</td>\n",
       "                        <td id=\"T_5ba9e016_b901_11ed_8876_1c1bb5837c31row5_col8\" class=\"data row5 col8\" >-0.040319</td>\n",
       "                        <td id=\"T_5ba9e016_b901_11ed_8876_1c1bb5837c31row5_col9\" class=\"data row5 col9\" >0.014540</td>\n",
       "            </tr>\n",
       "            <tr>\n",
       "                        <th id=\"T_5ba9e016_b901_11ed_8876_1c1bb5837c31level0_row6\" class=\"row_heading level0 row6\" >DAYS_EMPLOYED</th>\n",
       "                        <td id=\"T_5ba9e016_b901_11ed_8876_1c1bb5837c31row6_col0\" class=\"data row6 col0\" >0.023196</td>\n",
       "                        <td id=\"T_5ba9e016_b901_11ed_8876_1c1bb5837c31row6_col1\" class=\"data row6 col1\" >0.153027</td>\n",
       "                        <td id=\"T_5ba9e016_b901_11ed_8876_1c1bb5837c31row6_col2\" class=\"data row6 col2\" >-0.088906</td>\n",
       "                        <td id=\"T_5ba9e016_b901_11ed_8876_1c1bb5837c31row6_col3\" class=\"data row6 col3\" >0.223481</td>\n",
       "                        <td id=\"T_5ba9e016_b901_11ed_8876_1c1bb5837c31row6_col4\" class=\"data row6 col4\" >0.173683</td>\n",
       "                        <td id=\"T_5ba9e016_b901_11ed_8876_1c1bb5837c31row6_col5\" class=\"data row6 col5\" >-0.602693</td>\n",
       "                        <td id=\"T_5ba9e016_b901_11ed_8876_1c1bb5837c31row6_col6\" class=\"data row6 col6\" >1.000000</td>\n",
       "                        <td id=\"T_5ba9e016_b901_11ed_8876_1c1bb5837c31row6_col7\" class=\"data row6 col7\" >0.220868</td>\n",
       "                        <td id=\"T_5ba9e016_b901_11ed_8876_1c1bb5837c31row6_col8\" class=\"data row6 col8\" >0.023196</td>\n",
       "                        <td id=\"T_5ba9e016_b901_11ed_8876_1c1bb5837c31row6_col9\" class=\"data row6 col9\" >-0.007351</td>\n",
       "            </tr>\n",
       "            <tr>\n",
       "                        <th id=\"T_5ba9e016_b901_11ed_8876_1c1bb5837c31level0_row7\" class=\"row_heading level0 row7\" >CNT_FAM_MEMBERS</th>\n",
       "                        <td id=\"T_5ba9e016_b901_11ed_8876_1c1bb5837c31row7_col0\" class=\"data row7 col0\" >0.028384</td>\n",
       "                        <td id=\"T_5ba9e016_b901_11ed_8876_1c1bb5837c31row7_col1\" class=\"data row7 col1\" >0.151223</td>\n",
       "                        <td id=\"T_5ba9e016_b901_11ed_8876_1c1bb5837c31row7_col2\" class=\"data row7 col2\" >-0.015838</td>\n",
       "                        <td id=\"T_5ba9e016_b901_11ed_8876_1c1bb5837c31row7_col3\" class=\"data row7 col3\" >0.868454</td>\n",
       "                        <td id=\"T_5ba9e016_b901_11ed_8876_1c1bb5837c31row7_col4\" class=\"data row7 col4\" >0.031101</td>\n",
       "                        <td id=\"T_5ba9e016_b901_11ed_8876_1c1bb5837c31row7_col5\" class=\"data row7 col5\" >-0.321654</td>\n",
       "                        <td id=\"T_5ba9e016_b901_11ed_8876_1c1bb5837c31row7_col6\" class=\"data row7 col6\" >0.220868</td>\n",
       "                        <td id=\"T_5ba9e016_b901_11ed_8876_1c1bb5837c31row7_col7\" class=\"data row7 col7\" >1.000000</td>\n",
       "                        <td id=\"T_5ba9e016_b901_11ed_8876_1c1bb5837c31row7_col8\" class=\"data row7 col8\" >0.028384</td>\n",
       "                        <td id=\"T_5ba9e016_b901_11ed_8876_1c1bb5837c31row7_col9\" class=\"data row7 col9\" >-0.001784</td>\n",
       "            </tr>\n",
       "            <tr>\n",
       "                        <th id=\"T_5ba9e016_b901_11ed_8876_1c1bb5837c31level0_row8\" class=\"row_heading level0 row8\" >ID</th>\n",
       "                        <td id=\"T_5ba9e016_b901_11ed_8876_1c1bb5837c31row8_col0\" class=\"data row8 col0\" >1.000000</td>\n",
       "                        <td id=\"T_5ba9e016_b901_11ed_8876_1c1bb5837c31row8_col1\" class=\"data row8 col1\" >-0.011518</td>\n",
       "                        <td id=\"T_5ba9e016_b901_11ed_8876_1c1bb5837c31row8_col2\" class=\"data row8 col2\" >-0.096377</td>\n",
       "                        <td id=\"T_5ba9e016_b901_11ed_8876_1c1bb5837c31row8_col3\" class=\"data row8 col3\" >0.025114</td>\n",
       "                        <td id=\"T_5ba9e016_b901_11ed_8876_1c1bb5837c31row8_col4\" class=\"data row8 col4\" >-0.026806</td>\n",
       "                        <td id=\"T_5ba9e016_b901_11ed_8876_1c1bb5837c31row8_col5\" class=\"data row8 col5\" >-0.040319</td>\n",
       "                        <td id=\"T_5ba9e016_b901_11ed_8876_1c1bb5837c31row8_col6\" class=\"data row8 col6\" >0.023196</td>\n",
       "                        <td id=\"T_5ba9e016_b901_11ed_8876_1c1bb5837c31row8_col7\" class=\"data row8 col7\" >0.028384</td>\n",
       "                        <td id=\"T_5ba9e016_b901_11ed_8876_1c1bb5837c31row8_col8\" class=\"data row8 col8\" >1.000000</td>\n",
       "                        <td id=\"T_5ba9e016_b901_11ed_8876_1c1bb5837c31row8_col9\" class=\"data row8 col9\" >-0.008423</td>\n",
       "            </tr>\n",
       "            <tr>\n",
       "                        <th id=\"T_5ba9e016_b901_11ed_8876_1c1bb5837c31level0_row9\" class=\"row_heading level0 row9\" >TARGET</th>\n",
       "                        <td id=\"T_5ba9e016_b901_11ed_8876_1c1bb5837c31row9_col0\" class=\"data row9 col0\" >-0.008423</td>\n",
       "                        <td id=\"T_5ba9e016_b901_11ed_8876_1c1bb5837c31row9_col1\" class=\"data row9 col1\" >0.002740</td>\n",
       "                        <td id=\"T_5ba9e016_b901_11ed_8876_1c1bb5837c31row9_col2\" class=\"data row9 col2\" >0.008815</td>\n",
       "                        <td id=\"T_5ba9e016_b901_11ed_8876_1c1bb5837c31row9_col3\" class=\"data row9 col3\" >-0.005315</td>\n",
       "                        <td id=\"T_5ba9e016_b901_11ed_8876_1c1bb5837c31row9_col4\" class=\"data row9 col4\" >-0.006386</td>\n",
       "                        <td id=\"T_5ba9e016_b901_11ed_8876_1c1bb5837c31row9_col5\" class=\"data row9 col5\" >0.014540</td>\n",
       "                        <td id=\"T_5ba9e016_b901_11ed_8876_1c1bb5837c31row9_col6\" class=\"data row9 col6\" >-0.007351</td>\n",
       "                        <td id=\"T_5ba9e016_b901_11ed_8876_1c1bb5837c31row9_col7\" class=\"data row9 col7\" >-0.001784</td>\n",
       "                        <td id=\"T_5ba9e016_b901_11ed_8876_1c1bb5837c31row9_col8\" class=\"data row9 col8\" >-0.008423</td>\n",
       "                        <td id=\"T_5ba9e016_b901_11ed_8876_1c1bb5837c31row9_col9\" class=\"data row9 col9\" >1.000000</td>\n",
       "            </tr>\n",
       "    </tbody></table>"
      ],
      "text/plain": [
       "<pandas.io.formats.style.Styler at 0xb2281f0>"
      ]
     },
     "execution_count": 35,
     "metadata": {},
     "output_type": "execute_result"
    }
   ],
   "source": [
    "corr = df_final.corr()\n",
    "corr.style.background_gradient()"
   ]
  },
  {
   "cell_type": "markdown",
   "metadata": {},
   "source": [
    "Get dummies"
   ]
  },
  {
   "cell_type": "code",
   "execution_count": 36,
   "metadata": {},
   "outputs": [],
   "source": [
    "def obtener_lista_variables(dataset):\n",
    "    lista_numericas=[]\n",
    "    lista_boolean=[]\n",
    "    lista_categoricas=[]\n",
    "\n",
    "    for i in dataset:\n",
    "        if    (dataset[i].dtype.kind in (\"f\",\"i\")) and len(dataset[i].unique())!= 2:\n",
    "              lista_numericas.append(i)\n",
    "        elif  (dataset[i].dtype.kind in (\"f\",\"i\", \"O\")) and len(dataset[i].unique())== 2:\n",
    "              lista_boolean.append(i)\n",
    "        elif  (dataset[i].dtype.kind == \"O\"):\n",
    "              lista_categoricas.append(i)\n",
    "                \n",
    "    return lista_numericas, lista_boolean, lista_categoricas\n",
    "lista_numericas, lista_boolean, lista_categoricas= obtener_lista_variables(df_final)"
   ]
  },
  {
   "cell_type": "code",
   "execution_count": 37,
   "metadata": {},
   "outputs": [],
   "source": [
    "df_final= pd.get_dummies(data=df_final, columns=lista_categoricas)\n",
    "df_final= pd.get_dummies(data=df_final, columns=lista_boolean)"
   ]
  },
  {
   "cell_type": "code",
   "execution_count": 38,
   "metadata": {},
   "outputs": [],
   "source": [
    "minMaxResultado = MinMaxScaler()\n",
    "for i in lista_numericas:\n",
    "    df_final[i] = minMaxResultado.fit_transform(df_final[i].values.reshape(-1,1))"
   ]
  },
  {
   "cell_type": "code",
   "execution_count": 39,
   "metadata": {},
   "outputs": [],
   "source": [
    "median_columna = df_final['AGE'].median()\n",
    "df_final['AGE'].fillna(median_columna, inplace=True)"
   ]
  },
  {
   "cell_type": "code",
   "execution_count": 40,
   "metadata": {},
   "outputs": [
    {
     "data": {
      "text/html": [
       "<div>\n",
       "<style scoped>\n",
       "    .dataframe tbody tr th:only-of-type {\n",
       "        vertical-align: middle;\n",
       "    }\n",
       "\n",
       "    .dataframe tbody tr th {\n",
       "        vertical-align: top;\n",
       "    }\n",
       "\n",
       "    .dataframe thead th {\n",
       "        text-align: right;\n",
       "    }\n",
       "</style>\n",
       "<table border=\"1\" class=\"dataframe\">\n",
       "  <thead>\n",
       "    <tr style=\"text-align: right;\">\n",
       "      <th></th>\n",
       "      <th>Main_ID</th>\n",
       "      <th>FLAG_OWN_CAR</th>\n",
       "      <th>FLAG_OWN_REALTY</th>\n",
       "      <th>CNT_CHILDREN</th>\n",
       "      <th>AMT_INCOME_TOTAL</th>\n",
       "      <th>AGE</th>\n",
       "      <th>CNT_FAM_MEMBERS</th>\n",
       "      <th>ID</th>\n",
       "      <th>STATUS_0</th>\n",
       "      <th>STATUS_1</th>\n",
       "      <th>...</th>\n",
       "      <th>STATUS_4</th>\n",
       "      <th>STATUS_5</th>\n",
       "      <th>STATUS_C</th>\n",
       "      <th>STATUS_X</th>\n",
       "      <th>CODE_GENDER_F</th>\n",
       "      <th>CODE_GENDER_M</th>\n",
       "      <th>DAYS_EMPLOYED_0.0</th>\n",
       "      <th>DAYS_EMPLOYED_1.0</th>\n",
       "      <th>TARGET_0</th>\n",
       "      <th>TARGET_1</th>\n",
       "    </tr>\n",
       "  </thead>\n",
       "  <tbody>\n",
       "    <tr>\n",
       "      <th>0</th>\n",
       "      <td>0.0</td>\n",
       "      <td>True</td>\n",
       "      <td>True</td>\n",
       "      <td>0.0</td>\n",
       "      <td>0.258721</td>\n",
       "      <td>0.25</td>\n",
       "      <td>0.052632</td>\n",
       "      <td>0.0</td>\n",
       "      <td>0</td>\n",
       "      <td>0</td>\n",
       "      <td>...</td>\n",
       "      <td>0</td>\n",
       "      <td>0</td>\n",
       "      <td>1</td>\n",
       "      <td>0</td>\n",
       "      <td>0</td>\n",
       "      <td>1</td>\n",
       "      <td>0</td>\n",
       "      <td>1</td>\n",
       "      <td>0</td>\n",
       "      <td>1</td>\n",
       "    </tr>\n",
       "    <tr>\n",
       "      <th>1</th>\n",
       "      <td>0.0</td>\n",
       "      <td>True</td>\n",
       "      <td>True</td>\n",
       "      <td>0.0</td>\n",
       "      <td>0.258721</td>\n",
       "      <td>0.25</td>\n",
       "      <td>0.052632</td>\n",
       "      <td>0.0</td>\n",
       "      <td>0</td>\n",
       "      <td>0</td>\n",
       "      <td>...</td>\n",
       "      <td>0</td>\n",
       "      <td>0</td>\n",
       "      <td>1</td>\n",
       "      <td>0</td>\n",
       "      <td>0</td>\n",
       "      <td>1</td>\n",
       "      <td>0</td>\n",
       "      <td>1</td>\n",
       "      <td>0</td>\n",
       "      <td>1</td>\n",
       "    </tr>\n",
       "    <tr>\n",
       "      <th>2</th>\n",
       "      <td>0.0</td>\n",
       "      <td>True</td>\n",
       "      <td>True</td>\n",
       "      <td>0.0</td>\n",
       "      <td>0.258721</td>\n",
       "      <td>0.25</td>\n",
       "      <td>0.052632</td>\n",
       "      <td>0.0</td>\n",
       "      <td>0</td>\n",
       "      <td>0</td>\n",
       "      <td>...</td>\n",
       "      <td>0</td>\n",
       "      <td>0</td>\n",
       "      <td>1</td>\n",
       "      <td>0</td>\n",
       "      <td>0</td>\n",
       "      <td>1</td>\n",
       "      <td>0</td>\n",
       "      <td>1</td>\n",
       "      <td>0</td>\n",
       "      <td>1</td>\n",
       "    </tr>\n",
       "    <tr>\n",
       "      <th>3</th>\n",
       "      <td>0.0</td>\n",
       "      <td>True</td>\n",
       "      <td>True</td>\n",
       "      <td>0.0</td>\n",
       "      <td>0.258721</td>\n",
       "      <td>0.25</td>\n",
       "      <td>0.052632</td>\n",
       "      <td>0.0</td>\n",
       "      <td>0</td>\n",
       "      <td>0</td>\n",
       "      <td>...</td>\n",
       "      <td>0</td>\n",
       "      <td>0</td>\n",
       "      <td>1</td>\n",
       "      <td>0</td>\n",
       "      <td>0</td>\n",
       "      <td>1</td>\n",
       "      <td>0</td>\n",
       "      <td>1</td>\n",
       "      <td>0</td>\n",
       "      <td>1</td>\n",
       "    </tr>\n",
       "    <tr>\n",
       "      <th>4</th>\n",
       "      <td>0.0</td>\n",
       "      <td>True</td>\n",
       "      <td>True</td>\n",
       "      <td>0.0</td>\n",
       "      <td>0.258721</td>\n",
       "      <td>0.25</td>\n",
       "      <td>0.052632</td>\n",
       "      <td>0.0</td>\n",
       "      <td>0</td>\n",
       "      <td>0</td>\n",
       "      <td>...</td>\n",
       "      <td>0</td>\n",
       "      <td>0</td>\n",
       "      <td>1</td>\n",
       "      <td>0</td>\n",
       "      <td>0</td>\n",
       "      <td>1</td>\n",
       "      <td>0</td>\n",
       "      <td>1</td>\n",
       "      <td>0</td>\n",
       "      <td>1</td>\n",
       "    </tr>\n",
       "  </tbody>\n",
       "</table>\n",
       "<p>5 rows × 22 columns</p>\n",
       "</div>"
      ],
      "text/plain": [
       "   Main_ID  FLAG_OWN_CAR  FLAG_OWN_REALTY  CNT_CHILDREN  AMT_INCOME_TOTAL  \\\n",
       "0      0.0          True             True           0.0          0.258721   \n",
       "1      0.0          True             True           0.0          0.258721   \n",
       "2      0.0          True             True           0.0          0.258721   \n",
       "3      0.0          True             True           0.0          0.258721   \n",
       "4      0.0          True             True           0.0          0.258721   \n",
       "\n",
       "    AGE  CNT_FAM_MEMBERS   ID  STATUS_0  STATUS_1  ...  STATUS_4  STATUS_5  \\\n",
       "0  0.25         0.052632  0.0         0         0  ...         0         0   \n",
       "1  0.25         0.052632  0.0         0         0  ...         0         0   \n",
       "2  0.25         0.052632  0.0         0         0  ...         0         0   \n",
       "3  0.25         0.052632  0.0         0         0  ...         0         0   \n",
       "4  0.25         0.052632  0.0         0         0  ...         0         0   \n",
       "\n",
       "   STATUS_C  STATUS_X  CODE_GENDER_F  CODE_GENDER_M  DAYS_EMPLOYED_0.0  \\\n",
       "0         1         0              0              1                  0   \n",
       "1         1         0              0              1                  0   \n",
       "2         1         0              0              1                  0   \n",
       "3         1         0              0              1                  0   \n",
       "4         1         0              0              1                  0   \n",
       "\n",
       "   DAYS_EMPLOYED_1.0  TARGET_0  TARGET_1  \n",
       "0                  1         0         1  \n",
       "1                  1         0         1  \n",
       "2                  1         0         1  \n",
       "3                  1         0         1  \n",
       "4                  1         0         1  \n",
       "\n",
       "[5 rows x 22 columns]"
      ]
     },
     "execution_count": 40,
     "metadata": {},
     "output_type": "execute_result"
    }
   ],
   "source": [
    "df_final.head()"
   ]
  },
  {
   "cell_type": "code",
   "execution_count": 41,
   "metadata": {},
   "outputs": [
    {
     "data": {
      "text/plain": [
       "Main_ID              0\n",
       "FLAG_OWN_CAR         0\n",
       "FLAG_OWN_REALTY      0\n",
       "CNT_CHILDREN         0\n",
       "AMT_INCOME_TOTAL     0\n",
       "AGE                  0\n",
       "CNT_FAM_MEMBERS      0\n",
       "ID                   0\n",
       "STATUS_0             0\n",
       "STATUS_1             0\n",
       "STATUS_2             0\n",
       "STATUS_3             0\n",
       "STATUS_4             0\n",
       "STATUS_5             0\n",
       "STATUS_C             0\n",
       "STATUS_X             0\n",
       "CODE_GENDER_F        0\n",
       "CODE_GENDER_M        0\n",
       "DAYS_EMPLOYED_0.0    0\n",
       "DAYS_EMPLOYED_1.0    0\n",
       "TARGET_0             0\n",
       "TARGET_1             0\n",
       "dtype: int64"
      ]
     },
     "execution_count": 41,
     "metadata": {},
     "output_type": "execute_result"
    }
   ],
   "source": [
    "df_final.isnull().sum()"
   ]
  },
  {
   "cell_type": "code",
   "execution_count": 42,
   "metadata": {},
   "outputs": [],
   "source": [
    "#export csv\n",
    "df_final.to_csv('final_df.csv', sep=';')"
   ]
  },
  {
   "cell_type": "markdown",
   "metadata": {},
   "source": [
    "Visualización"
   ]
  },
  {
   "cell_type": "code",
   "execution_count": 43,
   "metadata": {},
   "outputs": [],
   "source": [
    "import sweetviz"
   ]
  },
  {
   "cell_type": "code",
   "execution_count": 44,
   "metadata": {},
   "outputs": [
    {
     "data": {
      "application/vnd.jupyter.widget-view+json": {
       "model_id": "c8bf2b6a5fd14e48a5cfed04030ee540",
       "version_major": 2,
       "version_minor": 0
      },
      "text/plain": [
       "HBox(children=(HTML(value=''), FloatProgress(value=0.0, layout=Layout(flex='2'), max=23.0), HTML(value='')), l…"
      ]
     },
     "metadata": {},
     "output_type": "display_data"
    },
    {
     "name": "stdout",
     "output_type": "stream",
     "text": [
      "\n"
     ]
    },
    {
     "ename": "KeyError",
     "evalue": "\"Feature 'TARGET' was specified as TARGET, but is NOT FOUND in the dataframe (watch case-sensitivity?).\"",
     "output_type": "error",
     "traceback": [
      "\u001b[1;31m---------------------------------------------------------------------------\u001b[0m",
      "\u001b[1;31mKeyError\u001b[0m                                  Traceback (most recent call last)",
      "\u001b[1;32m<ipython-input-44-2bd36e95973c>\u001b[0m in \u001b[0;36m<module>\u001b[1;34m\u001b[0m\n\u001b[1;32m----> 1\u001b[1;33m \u001b[0mreport\u001b[0m \u001b[1;33m=\u001b[0m \u001b[0msweetviz\u001b[0m\u001b[1;33m.\u001b[0m\u001b[0manalyze\u001b[0m\u001b[1;33m(\u001b[0m\u001b[0mdf_final\u001b[0m\u001b[1;33m,\u001b[0m \u001b[1;34m\"TARGET\"\u001b[0m\u001b[1;33m)\u001b[0m\u001b[1;33m\u001b[0m\u001b[1;33m\u001b[0m\u001b[0m\n\u001b[0m",
      "\u001b[1;32mC:\\Software\\Anaconda\\lib\\site-packages\\sweetviz\\sv_public.py\u001b[0m in \u001b[0;36manalyze\u001b[1;34m(source, target_feat, feat_cfg, pairwise_analysis)\u001b[0m\n\u001b[0;32m     10\u001b[0m             \u001b[0mfeat_cfg\u001b[0m\u001b[1;33m:\u001b[0m \u001b[0mFeatureConfig\u001b[0m \u001b[1;33m=\u001b[0m \u001b[1;32mNone\u001b[0m\u001b[1;33m,\u001b[0m\u001b[1;33m\u001b[0m\u001b[1;33m\u001b[0m\u001b[0m\n\u001b[0;32m     11\u001b[0m             pairwise_analysis: str = 'auto'):\n\u001b[1;32m---> 12\u001b[1;33m     report = sweetviz.DataframeReport(source, target_feat, None,\n\u001b[0m\u001b[0;32m     13\u001b[0m                                       pairwise_analysis, feat_cfg)\n\u001b[0;32m     14\u001b[0m     \u001b[1;32mreturn\u001b[0m \u001b[0mreport\u001b[0m\u001b[1;33m\u001b[0m\u001b[1;33m\u001b[0m\u001b[0m\n",
      "\u001b[1;32mC:\\Software\\Anaconda\\lib\\site-packages\\sweetviz\\dataframe_report.py\u001b[0m in \u001b[0;36m__init__\u001b[1;34m(self, source, target_feature_name, compare, pairwise_analysis, fc)\u001b[0m\n\u001b[0;32m    171\u001b[0m             \u001b[1;32mif\u001b[0m \u001b[0mlen\u001b[0m\u001b[1;33m(\u001b[0m\u001b[0mtargets_found\u001b[0m\u001b[1;33m)\u001b[0m \u001b[1;33m==\u001b[0m \u001b[1;36m0\u001b[0m\u001b[1;33m:\u001b[0m\u001b[1;33m\u001b[0m\u001b[1;33m\u001b[0m\u001b[0m\n\u001b[0;32m    172\u001b[0m                 \u001b[0mself\u001b[0m\u001b[1;33m.\u001b[0m\u001b[0mprogress_bar\u001b[0m\u001b[1;33m.\u001b[0m\u001b[0mclose\u001b[0m\u001b[1;33m(\u001b[0m\u001b[1;33m)\u001b[0m\u001b[1;33m\u001b[0m\u001b[1;33m\u001b[0m\u001b[0m\n\u001b[1;32m--> 173\u001b[1;33m                 raise KeyError(f\"Feature '{target_feature_name}' was \"\n\u001b[0m\u001b[0;32m    174\u001b[0m                                \u001b[1;34mf\"specified as TARGET, but is NOT FOUND in \"\u001b[0m\u001b[1;33m\u001b[0m\u001b[1;33m\u001b[0m\u001b[0m\n\u001b[0;32m    175\u001b[0m                                f\"the dataframe (watch case-sensitivity?).\")\n",
      "\u001b[1;31mKeyError\u001b[0m: \"Feature 'TARGET' was specified as TARGET, but is NOT FOUND in the dataframe (watch case-sensitivity?).\""
     ]
    }
   ],
   "source": [
    "report = sweetviz.analyze(df_final, \"TARGET\")"
   ]
  },
  {
   "cell_type": "code",
   "execution_count": null,
   "metadata": {},
   "outputs": [],
   "source": [
    "report.show_html()"
   ]
  },
  {
   "cell_type": "markdown",
   "metadata": {},
   "source": [
    "Modelling"
   ]
  },
  {
   "cell_type": "code",
   "execution_count": null,
   "metadata": {},
   "outputs": [],
   "source": [
    "target = 'TARGET'\n",
    "features = df_final.columns[df_final.columns != target]\n",
    "\n",
    "y = df_final[target]\n",
    "X = df_final[features]"
   ]
  },
  {
   "cell_type": "code",
   "execution_count": null,
   "metadata": {},
   "outputs": [],
   "source": [
    "X_train, X_test, y_train, y_test = train_test_split(\n",
    "    X, y, test_size=0.30, random_state=42)"
   ]
  },
  {
   "cell_type": "code",
   "execution_count": null,
   "metadata": {},
   "outputs": [],
   "source": [
    "sm = SMOTE(random_state = 2)\n",
    "X_train, y_train = sm.fit_resample(X_train, y_train)\n",
    "os_data_X,os_data_y= sm.fit_resample(X_train, y_train)\n",
    "y_train.value_counts()"
   ]
  },
  {
   "cell_type": "code",
   "execution_count": null,
   "metadata": {},
   "outputs": [],
   "source": [
    "LR = LogisticRegression()\n",
    "LR.fit(X_train, y_train)"
   ]
  },
  {
   "cell_type": "code",
   "execution_count": null,
   "metadata": {},
   "outputs": [],
   "source": [
    "y_test = LR.predict(X_test)\n",
    "print('Accuracy of logistic regression classifier on test set: {:.2f}'.format(LR.score(X_test, y_test)))"
   ]
  },
  {
   "cell_type": "code",
   "execution_count": null,
   "metadata": {},
   "outputs": [],
   "source": [
    "logit_roc_auc = roc_auc_score(y_test, LR.predict(X_test))\n",
    "fpr, tpr, thresholds = roc_curve(y_test, LR.predict_proba(X_test)[:,1])\n",
    "plt.figure()\n",
    "plt.plot(fpr, tpr, label='Logistic Regression (area = %0.2f)' % logit_roc_auc)\n",
    "plt.plot([0, 1], [0, 1],'r--')\n",
    "plt.xlim([0.0, 1.0])\n",
    "plt.ylim([0.0, 1.05])\n",
    "plt.xlabel('False Positive Rate')\n",
    "plt.ylabel('True Positive Rate')\n",
    "plt.title('Receiver operating characteristic')\n",
    "plt.legend(loc=\"lower right\")\n",
    "plt.savefig('Log_ROC')\n",
    "plt.show()"
   ]
  },
  {
   "cell_type": "code",
   "execution_count": null,
   "metadata": {},
   "outputs": [],
   "source": [
    "#GaussianNB\n",
    "gnb = GaussianNB()\n",
    "gnb.fit(X_train, y_train)\n",
    "y_pred = gnb.predict(X_test)"
   ]
  },
  {
   "cell_type": "code",
   "execution_count": null,
   "metadata": {},
   "outputs": [],
   "source": [
    "print(\"Accuracy:\",metrics.accuracy_score(y_test, y_pred))"
   ]
  },
  {
   "cell_type": "code",
   "execution_count": null,
   "metadata": {},
   "outputs": [],
   "source": []
  },
  {
   "cell_type": "code",
   "execution_count": null,
   "metadata": {},
   "outputs": [],
   "source": []
  },
  {
   "cell_type": "code",
   "execution_count": null,
   "metadata": {},
   "outputs": [],
   "source": []
  }
 ],
 "metadata": {
  "kernelspec": {
   "display_name": "Python 3",
   "language": "python",
   "name": "python3"
  },
  "language_info": {
   "codemirror_mode": {
    "name": "ipython",
    "version": 3
   },
   "file_extension": ".py",
   "mimetype": "text/x-python",
   "name": "python",
   "nbconvert_exporter": "python",
   "pygments_lexer": "ipython3",
   "version": "3.8.5"
  }
 },
 "nbformat": 4,
 "nbformat_minor": 4
}
